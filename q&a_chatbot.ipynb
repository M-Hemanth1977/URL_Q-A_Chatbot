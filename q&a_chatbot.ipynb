{
 "cells": [
  {
   "cell_type": "markdown",
   "metadata": {},
   "source": [
    "Loading the .env file"
   ]
  },
  {
   "cell_type": "code",
   "execution_count": 123,
   "metadata": {},
   "outputs": [
    {
     "data": {
      "text/plain": [
       "True"
      ]
     },
     "execution_count": 123,
     "metadata": {},
     "output_type": "execute_result"
    }
   ],
   "source": [
    "import os\n",
    "from dotenv import load_dotenv\n",
    "\n",
    "load_dotenv(dotenv_path=r\"D:\\Lang_chain\\.env\")"
   ]
  },
  {
   "cell_type": "markdown",
   "metadata": {},
   "source": [
    "Importing google api key for our model"
   ]
  },
  {
   "cell_type": "code",
   "execution_count": 124,
   "metadata": {},
   "outputs": [],
   "source": [
    "os.environ[\"GOOGLE_API_KEY\"]=os.getenv(\"google_ai_api_key\")"
   ]
  },
  {
   "cell_type": "markdown",
   "metadata": {},
   "source": [
    "Tracking llm in langsmith"
   ]
  },
  {
   "cell_type": "code",
   "execution_count": 125,
   "metadata": {},
   "outputs": [],
   "source": [
    "os.environ[\"LANGSMITH_TRACING\"]=\"true\"\n",
    "os.environ[\"LANGSMITH_API_KEY\"]=os.getenv(\"langsmith_api_key\")\n",
    "os.environ[\"LANGSMITH_PROJECT\"]=\"Q&A Chatbot\""
   ]
  },
  {
   "cell_type": "code",
   "execution_count": 126,
   "metadata": {},
   "outputs": [
    {
     "data": {
      "text/plain": [
       "ChatGoogleGenerativeAI(model='models/gemini-2.0-flash-thinking-exp-01-21', google_api_key=SecretStr('**********'), client=<google.ai.generativelanguage_v1beta.services.generative_service.client.GenerativeServiceClient object at 0x00000218E585D310>, default_metadata=())"
      ]
     },
     "execution_count": 126,
     "metadata": {},
     "output_type": "execute_result"
    }
   ],
   "source": [
    "from langchain_google_genai import ChatGoogleGenerativeAI\n",
    "\n",
    "llm=ChatGoogleGenerativeAI(model=\"gemini-2.0-flash-thinking-exp-01-21\")\n",
    "\n",
    "llm"
   ]
  },
  {
   "cell_type": "markdown",
   "metadata": {},
   "source": [
    "Url document loader"
   ]
  },
  {
   "cell_type": "code",
   "execution_count": 127,
   "metadata": {},
   "outputs": [
    {
     "data": {
      "text/plain": [
       "[Document(metadata={'source': 'https://en.wikipedia.org/wiki/Prabhas', 'title': 'Prabhas - Wikipedia', 'language': 'en'}, page_content='\\n\\n\\n\\nPrabhas - Wikipedia\\n\\n\\n\\n\\n\\n\\n\\n\\n\\n\\n\\n\\n\\n\\n\\n\\n\\n\\n\\n\\n\\n\\n\\n\\n\\n\\n\\n\\n\\n\\n\\n\\n\\n\\n\\nJump to content\\n\\n\\n\\n\\n\\n\\n\\nMain menu\\n\\n\\n\\n\\n\\nMain menu\\nmove to sidebar\\nhide\\n\\n\\n\\n\\t\\tNavigation\\n\\t\\n\\n\\nMain pageContentsCurrent eventsRandom articleAbout WikipediaContact us\\n\\n\\n\\n\\n\\n\\t\\tContribute\\n\\t\\n\\n\\nHelpLearn to editCommunity portalRecent changesUpload fileSpecial pages\\n\\n\\n\\n\\n\\n\\n\\n\\n\\n\\n\\n\\n\\n\\n\\n\\n\\n\\n\\nSearch\\n\\n\\n\\n\\n\\n\\n\\n\\n\\n\\n\\nSearch\\n\\n\\n\\n\\n\\n\\n\\n\\n\\n\\n\\n\\n\\n\\n\\n\\n\\n\\n\\n\\n\\n\\nAppearance\\n\\n\\n\\n\\n\\n\\n\\n\\n\\n\\n\\n\\n\\n\\n\\n\\nDonate\\n\\nCreate account\\n\\nLog in\\n\\n\\n\\n\\n\\n\\n\\n\\nPersonal tools\\n\\n\\n\\n\\n\\nDonate Create account Log in\\n\\n\\n\\n\\n\\n\\t\\tPages for logged out editors learn more\\n\\n\\n\\nContributionsTalk\\n\\n\\n\\n\\n\\n\\n\\n\\n\\n\\n\\n\\n\\n\\n\\n\\n\\n\\n\\n\\n\\n\\n\\n\\n\\n\\n\\n\\nContents\\nmove to sidebar\\nhide\\n\\n\\n\\n\\n(Top)\\n\\n\\n\\n\\n\\n1\\nEarly life and education\\n\\n\\n\\n\\n\\n\\n\\n\\n2\\nCareer\\n\\n\\n\\n\\nToggle Career subsection\\n\\n\\n\\n\\n\\n2.1\\n2002–2014: Early work and career progression\\n\\n\\n\\n\\n\\n\\n\\n\\n2.2\\n2015–present: Pan-India success, setback and resurgence\\n\\n\\n\\n\\n\\n\\n\\n\\n2.3\\nUpcoming projects\\n\\n\\n\\n\\n\\n\\n\\n\\n\\n\\n3\\nHumanitarian and social causes\\n\\n\\n\\n\\n\\n\\n\\n\\n4\\nMedia image and other work\\n\\n\\n\\n\\n\\n\\n\\n\\n5\\nFilmography and awards\\n\\n\\n\\n\\n\\n\\n\\n\\n6\\nReferences\\n\\n\\n\\n\\n\\n\\n\\n\\n7\\nExternal links\\n\\n\\n\\n\\n\\n\\n\\n\\n\\n\\n\\n\\n\\n\\n\\n\\n\\n\\nToggle the table of contents\\n\\n\\n\\n\\n\\n\\n\\nPrabhas\\n\\n\\n\\n49 languages\\n\\n\\n\\n\\nالعربيةঅসমীয়াবাংলাभोजपुरीБългарскиDanskडोटेलीفارسیFiji HindiFrançaisગુજરાતી한국어HausaՀայերենहिन्दीBahasa IndonesiaItalianoಕನ್ನಡमैथिलीമലയാളംमराठीمصرىBahasa Melayuꯃꯤꯇꯩ ꯂꯣꯟမြန်မာဘာသာNederlandsनेपाली日本語Oʻzbekcha / ўзбекчаਪੰਜਾਬੀپنجابیپښتوPolskiPortuguêsРусскийसंस्कृतम्ᱥᱟᱱᱛᱟᱲᱤسرائیکیසිංහලSimple EnglishСрпски / srpskiSuomiதமிழ்తెలుగుТоҷикӣاردوئۇيغۇرچە / UyghurcheVepsän kel’中文\\n\\nEdit links\\n\\n\\n\\n\\n\\n\\n\\n\\n\\n\\n\\nArticleTalk\\n\\n\\n\\n\\n\\nEnglish\\n\\n\\n\\n\\n\\n\\n\\n\\n\\n\\n\\n\\n\\n\\n\\n\\n\\nReadView sourceView history\\n\\n\\n\\n\\n\\n\\n\\nTools\\n\\n\\n\\n\\n\\nTools\\nmove to sidebar\\nhide\\n\\n\\n\\n\\t\\tActions\\n\\t\\n\\n\\nReadView sourceView history\\n\\n\\n\\n\\n\\n\\t\\tGeneral\\n\\t\\n\\n\\nWhat links hereRelated changesUpload filePermanent linkPage informationCite this pageGet shortened URLDownload QR code\\n\\n\\n\\n\\n\\n\\t\\tPrint/export\\n\\t\\n\\n\\nDownload as PDFPrintable version\\n\\n\\n\\n\\n\\n\\t\\tIn other projects\\n\\t\\n\\n\\nWikimedia CommonsWikidata item\\n\\n\\n\\n\\n\\n\\n\\n\\n\\n\\n\\n\\n\\n\\n\\n\\n\\n\\n\\n\\n\\nAppearance\\nmove to sidebar\\nhide\\n\\n\\n\\n\\n\\n\\n\\n\\n\\n\\n\\nFrom Wikipedia, the free encyclopedia\\n\\n\\nIndian actor (born 1979)\\nThis article is about the actor born in 1979. For other uses, see Prabhas (disambiguation).\\n\\n\\nPrabhasPrabhas at the 2023 San Diego Comic-ConBornUppalapati Venkata Suryanarayana Prabhas Raju[1][2] (1979-10-23) 23 October 1979 (age\\xa045)[3]Madras (now Chennai), Tamil Nadu, IndiaEducationSri Chaitanya College, Hyderabad (BTech)OccupationActorYears\\xa0active2002–presentWorksFull listFatherUppalapati Surya Narayana RajuRelativesKrishnam Raju (uncle)AwardsFull list\\nUppalapati Venkata Suryanarayana Prabhas Raju ([pɾabʱaːs]; born 23 October 1979), known mononymously as Prabhas, is an Indian actor who predominantly works in Telugu cinema.[4] He is one of the highest-paid actors in Indian cinema and has been featured in Forbes India\\'s Celebrity 100 list since 2015.[9] Referred to in the media as the \"Rebel Star\", he has appeared in over 20 films, and has received seven Filmfare Awards nominations, a Nandi Award, and a SIIMA Award.[10][11]\\nPrabhas made his acting debut with the drama Eeswar (2002), and later attained his breakthrough with the action romance Varsham (2004). He went on to star in other commercially successful films such as Chatrapathi (2005), Bujjigadu (2008), Billa (2009), Darling (2010), Mr. Perfect (2011), and Mirchi (2013), winning the Nandi Award for Best Actor for his performance in the lattermost.[12][13] He went on to play a dual role in the epic action duology Baahubali: The Beginning (2015) and Baahubali 2: The Conclusion (2017), with the latter emerging as the highest-grossing Indian film at that point, establishing Prabhas as the first pan-Indian star.[14][15][16][17] He achieved further box office success with the action thriller Saaho (2019), the action drama Salaar: Part 1 – Ceasefire (2023), and the science fiction film Kalki 2898 AD (2024).[18][19]\\nPrabhas is the only Indian actor to have six films with a worldwide gross opening of over ₹100 crore. He is also the only South Indian actor with six films that have crossed the ₹100 crore nett mark in the Hindi market. Furthermore, Prabhas is the first Indian actor to have a film gross over ₹1000 crore worldwide. Additionally, Prabhas is the first South Indian actor to receive a wax sculpture at a Madame Tussaud\\'s museum.[20]\\n\\n\\nEarly life and education\\nPrabhas was born on 23 October 1979 in a Telugu family to film producer Uppalapati Surya Narayana Raju and Siva Kumari in Madras (now Chennai). The youngest of three children, he has an elder brother, Prabodh, and elder sister, Pragathi.[3][21][22] He is the nephew of Telugu film actor Krishnam Raju.[3] His family hails from Mogalthur, near Bhimavaram of West Godavari district, Andhra Pradesh.[23]\\nPrabhas did his schooling at Don Bosco Matriculation Higher Secondary School, Chennai, and at DNR High School, Bhimavaram.[24] He then completed his intermediate education from Nalanda College, Hyderabad.[25][24] He later went on to pursue Bachelor of Technology (B.Tech) from Sri Chaitanya College, Hyderabad.[26] He is also an alumnus of Satyanand Film Institute, Visakhapatnam.[27]\\n\\nCareer\\n2002–2014: Early work and career progression\\nPrabhas made his debut with the 2002 action drama Eeswar. In 2003, he followed up with Raghavendra, which received mixed reviews while Idlebrain stated that Prabhas is so good in this film that you can watch it only for him, he is the superstar in making, and all he needs is the right director and right break.[28] He attained his breakthrough with the action romance Varsham (2004), which went on to be a blockbuster and one of the highest grossing Telugu films of the year.[29] He received his first nomination for the Filmfare Award for Best Actor – Telugu. He appeared in Adavi Raamudu (2004), the same year which received mostly negative reception from the critics and audience alike. In 2005, he appeared in Chakram, which received mixed reviews and went on to win two Nandi Awards.[30] Prabhas portrayed the role of a refugee, exploited by goons, in S. S. Rajamouli\\'s action drama Chatrapathi, the same year. It emerged as a blockbuster and had a 100-day run in 54 centers.[31] Idlebrain.com stated that \"he had a unique style and macho charm in his screen presence\".[32] Chatrapathi earned him his second nomination for the Filmfare Award for Best Actor – Telugu.\\nIn 2006, Prabhas starred in the musical drama Pournami, which garnered mixed critical reception but earned praise for the cast\\'s performances. In 2007, he starred in action drama Yogi and Munna, both of which received lukewarm response from both audience and fans alike. In 2008, Prabhas collaborated with the director Puri Jagannadh for action-comedy Bujjigadu which gave him a much needed box-office comeback and he received critical acclaim for his performance.[33] In 2009, Prabhas played a dual role in the action thriller Billa (2009), which went on to be a blockbuster at box-office.[34] Later that year, he starred in Ek Niranjan (2009), which opened to mixed reviews, and earned him his third nomination for the Filmfare Award for Best Actor – Telugu.\\nIn 2010, he appeared in the romantic comedy Darling which received positive reviews from audiences and critics. It went on to be one of the highest grossers of the year and critics lauded Prabhas\\'s performance, as the major highlight of the film.[35] The Times of India noted the film to be derivative and that the director hasn\\'t really come out of his previous work Tholi Prema.[36] In 2011, Prabhas starred in romantic drama Mr. Perfect, which received positive reviews and went on to be a blockbuster. His performance in the film earned him his fourth nomination for the Filmfare Award for Best Actor – Telugu. The Statesman described the film as a \"timeless classic\".[37] The review site GreatAndhra rated the film with three stars and noted \"The film comes across as a clean, family entertainer and the intention of the makers must be appreciated.[38] In 2024, the film was re-released in Japan, garnering unanimous positive responses from the fans and the audiences alike, with every show selling out.[39]\\nIn 2012, Prabhas starred in the action Rebel, received mixed reviews from critics and underperformed at the box office. It was praised for cast performances, action sequences, and production values, but criticised for its plot and screenplay. The Times of India and NDTV stated that, the film serves up fare for the mass audience, and hard-core Prabhas fans.[40][41] He also rendered his voice for a short duration in the film Denikaina Ready (2012).[42] In 2013, Prabhas starred in Mirchi, which opened to positive reviews and went on to be a blockbuster. It was one of the highest grossing Telugu films of the year as well as one of the highest-grossing Telugu films of all time, at the time of its release.[43] His performance in the film earned him his fifth nomination for the Filmfare Award for Best Actor – Telugu. NDTV gave the film a mixed review, stating that \"apart from good direction and strong performance by the lead actor, Mirchi lacks narrative power and is loosely based on an amalgamation of some old films\".[44] Idlebrain stated that \"Mirchi is a film that is made to do a commercial hit. Prabhas entertains with Mirchi and director does a decent work. On a whole, Mirchi has all the ingredients of a commercial potboiler\".[45] He then made his Hindi cinema debut in 2014 in the special dance number \"Punjabi Mast\" from the film Action Jackson.[46]\\n\\n2015–present: Pan-India success, setback and resurgence\\nPrabhas on the sets of Baahubali 2: The Conclusion\\nIn 2015, Prabhas played a dual role as Shivudu/Mahendra Baahubali and Amarendra Baahubali in S.S. Rajamouli\\'s epic action drama Baahubali: The Beginning (2015). With a budget of ₹180 crore ($28 million), it was the most expensive Indian film ever made at the time of release,[47] and became a record-breaking box office success. The film eventually grossed over ₹600 crore (US$70\\xa0million) worldwide, making it the highest-grossing Telugu film and the second highest-grossing Indian film at that point. It is one of the highest-grossing Indian film to date.[48][49][50]  It received national and international acclaim, and started a new film movement called Pan-Indian films.\\nPrabhas reprised his role in its sequel, Baahubali 2: The Conclusion (2017), with a budget of ₹250 crore ($36.87 million), it was the most expensive Indian film ever produced at the time of release.[51] It became the first Indian film ever to gross over ₹1,000 crore (US$120 million) worldwide in just ten days, first Indian film to gross ₹100 crore (US$12\\xa0million) and ₹200 crore (US$23\\xa0million) on its opening day, and highest-grossing Indian film at that point. The film eventually grossed over ₹1,810 crore (US$210\\xa0million) worldwide, making it second-highest-grossing Indian film worldwide to date and the highest-grossing film in India till date.[52][53][54]\\nPrabhas dedicated 5 years for the duology, stating that the project demanded a certain level of dedication and refrained from signing any other project over the tenure.[55][56] He underwent rigorous training to prepare for his dual role in the film. For the character of Shivudu, he reduced his weight to a lean 86-88 kilograms with a minimal body fat percentage of 5-6%. Conversely, for the role of Baahubali, he significantly had to increase his weight to a bulky 105 kilograms with a body fat composition of 8-10%.[57][58] He won the SIIMA Award for Best Actor – Telugu for his performance in The Conclusion.[59] His performance in both film earned him his sixth and seventh nominations for the Filmfare Award for Best Actor – Telugu. The success of Baahubali series propelled Prabhas to become the first “Pan-Indian\" star in Indian cinema, receiving significant following across India.[60][61]\\n\\nPrabhas on the sets of Saaho\\nIn 2019, Prabhas starred in Sujeeth\\'s action thriller Saaho.[62] Saaho opened to mixed reviews and grossed ₹130 crore worldwide on its opening day, making it Prabhas\\'s second ₹100 crore opening day grosser. The film eventually grossed over ₹419 crore (US$49\\xa0million) at the box-office.[63] The Telugu version of the film underperformed, while the Hindi version was a hit.[64][65] In 2022, Prabhas appeared in the period romance drama Radhe Shyam which received poor reviews from critics & proved to be a box office bomb.[66][67][68] In 2023, Prabhas portrayed Lord Ram in the mythological action film Adipurush, an adaptation of Hindu epic the Ramayana.[69] It received highly negative response from critics as well as the audience, who criticised the film\\'s screenplay and visuals, and turned out to be another box-office bomb for the actor.[70]\\nPrabhas went on to star in Prashanth Neel\\'s action drama Salaar: Part 1 – Ceasefire (2023), the same year.[71] The film opened to positive reviews and grossed ₹176 crore worldwide on its opening day.[72] It eventually grossed over ₹705 crore (US$82\\xa0million) worldwide and proved to be a comeback film for him.[73] In 2024, he starred in Nag Ashwin\\'s epic science fiction film Kalki 2898 AD.[74][75] Made on a ₹600 crore (US$70\\xa0million) production budget, it is the most expensive Indian film.[76] Kalki 2898 AD grossed over ₹191 crore worldwide on its opening day, which was the third highest first day gross for an Indian film, and making it the fifth and third consecutive ₹100 crore opener worldwide for Prabhas, a feat unheard of in Indian cinema.[77] Rahul Malhotra of Collider quotes that Kalki 2898 AD’s resounding opening cements \"Prabhas as one of the biggest Indian movie stars of his generation\".[78] The film grossed over ₹1,100 crore (US$130\\xa0million) at the box-office, making it the second ₹1,000 crore (US$120 million) film for Prabhas.[79][80]\\n\\nUpcoming projects\\nPrabhas has several upcoming films in various stages of production.[81] In April 2025, he will feature in Kannappa, a mythological drama,[82] in a cameo role and The Raja Saab, a romantic horror-comedy, where he plays the lead role in an ancestral property dispute tale.[83] In 2026, Prabhas will appear in Salaar: Part 2 – Shouryaanga Parvam, the sequel to Salaar;[84] and Spirit, an anti-hero grindhouse drama directed by Sandeep Reddy Vanga.[85] In 2027, he is set to reprise his role as the main protagonist in the epic dystopian sci-fi Kalki 2898 AD - Part 2, re-portraying dual roles of Bhairava and Karna; and Fauji, a patriotic historical action-drama film directed by Hanu Raghavapudi.[86]\\nPrabhas has also entered into a three-film contract with Hombale Films, the production company responsible for notable successes such as KGF, Kantara, and Salaar. The partnership will commence with Salaar: Part 2 – Shouryaanga Parvam in 2026, with the subsequent untitled films tentatively scheduled for release in 2027 and 2028.[87]\\n\\nHumanitarian and social causes\\nPrabhas has been vocal of the Swachh Bharat Mission (SBM) and featured in promotional campaigns such as Prime Minister Narendra Modi’s ‘Swachhata Hi Seva’ mission.[88] In 2020, Prabhas donated ₹4 crore (US$470,000) for the cause of combating against the COVID-19 pandemic. Of this, ₹3 crore was given to the Prime Minister\\'s National Relief Fund, while ₹50 lakh each went to the Chief Minister Relief Funds of Andhra Pradesh and Telangana.[89] He adopted 1,650 acres of Khazipally Reserve Forest near Hyderabad and donated ₹2 crore (US$230,000) for the development of the eco-park in the name of his late father Uppalapati Surya Narayana Raju, in 2020.[90] He also donated a total of ₹8 lakh (US$9,300) to the Lions Club of Hyderabad Sadhuram Eye Hospital.[91]\\nIn 2021, he donated ₹1 crore (US$120,000) to the Andhra Pradesh Chief Minister’s Relief Fund (CMRF) to help all those who have been affected due to the heavy rainfall in several parts of the state.[92] In 2023, he donated a sum of ₹10 lakh (US$12,000) for the development of Sri Seetha Ramachandra Swamy Devathanam at Bhadrachalam.[93] In 2024, he donated a sum of ₹35 lakh (US$41,000) to the Telugu Film Directors Association (TFDA) to support the welfare of the cinema worker\\'s body.[94] Prabhas donated a sum of ₹2 crore (US$230,000) to the Kerala Chief Minister\\'s Relief Fund, to help the victims of the 2024 Wayanad landslides.[95][96]  Prabhas donated a sum of ₹2 crore (US$230,000) to aid flood relief efforts in Andhra Pradesh and Telangana, with ₹1 crore (US$120,000) each allocated to the Chief Minister Relief Funds of both states.[97][98]\\n\\nMedia image and other work\\nPrabhas is the first Indian actor ever to be referred to as “Pan-India” star.[61][99][100] Film journalists and analysts, such as Baradwaj Rangan and Vishal Menon, have labelled him as the first of the kind in Indian cinema.[15][101] Prabhas is considered as \"a flagbearer of introducing the trend of Pan-India films in the nation\".[102] Prabhas is referred to in the media and by his fans as the \"Rebel Star\" and \"Darling\".[103][104]\\nPrabhas was ranked second in Times\\' Most Desirable Men for the year 2017,[105] and twelfth in 2018.[106] He was then added to the Forever Desirable list of Hyderabad Times in 2019.[107][108] He was the most searched actor on Google in Karnataka, for the year 2019.[109] He is the only actor from South Indian cinema to feature in the magazine Eastern Eye\\'s 2019 listing of the 10 Sexiest Asian Men.[110][111] He was also featured in the GQ in their listing of the most influential young Indians of 2017.[112] As of August 2024, he is one of the most-followed Telugu actors on Instagram.[113][114]\\nPrabhas, generally does not endorse brands or appear in advertisements.[115] However, in 2015, he was signed on by Mahindra & Mahindra as brand ambassador for the new Mahindra TUV300 car, making his debut in the television commercial arena.[116] News 18 reported that he rejected brand endorsements worth ₹150 crore (US$18\\xa0million) in 2020.[117]\\n\\nFilmography and awards\\nMain article: Prabhas filmography and awards\\nReferences\\n\\n\\n^ \"Rapid Fire round with Prabhas and Shraddha Kapoor during Saaho Dubai promotions\". 10 October 2019. Archived from the original on 28 October 2021. Retrieved 7 September 2020 – via YouTube. time 3:00 to 3:20\\n\\n^ \"15 Interesting Facts About Prabhas You Should Know Before Calling Yourself His Biggest Fan!\". The Times of India. 13 May 2017. Archived from the original on 14 May 2017. Retrieved 14 May 2017. His full name is .\\n\\n^ a b c \"Happy birthday Prabhas: Six lesser known facts about the Baahubali actor\". The Indian Express. 23 October 2016. Archived from the original on 23 February 2017. Retrieved 18 March 2017. Actor Prabhas turned 37 on Sunday.\\n\\n^ Tartaglione, Nancy (23 December 2023). \"Prabhas On \\'Salaar: Part I – Ceasefire\\', Its Sequel & The Evolving Indian Cinema Industry\". Deadline. Retrieved 4 February 2024.\\n\\n^ One of the highest paid actors,\\nSreeja, Addla (9 July 2023). \"Highest paid actor Prabhas\\' FEE for his next movie Salaar\". The Siasat Daily. Archived from the original on 7 August 2023. Retrieved 7 August 2023.\\n\"Allu Arjun breaks Prabhas\\'s record, becomes highest-paid star in the Telugu film industry\". The Times of India. 10 March 2023. Archived from the original on 7 August 2023. Retrieved 7 August 2023.\\n\"EXCLUSIVE: Prabhas emerges the HIGHEST PAID ACTOR of India – charges Rs. 150\\xa0crores\". Bollywood Hungama. 23 November 2021. Archived from the original on 9 March 2022. Retrieved 1 February 2022.\\n\\n^ \"Prabhas – Forbes India Magazine\". Forbes India. Archived from the original on 14 April 2021. Retrieved 5 December 2020.\\n\\n^ \"2017 Celebrity 100 – Forbes India Magazine\". Forbes India. Archived from the original on 2 June 2020. Retrieved 5 December 2020.\\n\\n^ \"Prabhas – Forbes India Magazine\". Forbes India. Archived from the original on 21 April 2021. Retrieved 5 December 2020.\\n\\n^ [5][6][7][8]\\n\\n^ K., Sayanthana (16 December 2023). \"\\'Natural Star\\' Nani, \\'Rebel Star\\' Prabhas, \\'Stylish Star\\' Allu Arjun: Popular tags given to stars from fans!\". The Times of India. ISSN\\xa00971-8257. Retrieved 3 July 2024.\\n\\n^ \"When \\'Young Rebel Star\\' Prabhas revealed he is not comfortable with such titles\". Hindustan Times. 23 October 2023. Retrieved 4 July 2024.\\n\\n^ \"India\\'s most expensive film?\". Hindustan Times. 15 July 2013. Archived from the original on 18 July 2013.\\n\\n^ \"Bahubali wins national award for Best Film\". The Times of India. 28 March 2016. Archived from the original on 31 March 2016. Retrieved 28 April 2016.\\n\\n^ \"Top Worldwide Figures – All Formats And Hindi\". Box Office India. Archived from the original on 27 March 2019. Retrieved 5 March 2020.\\n\\n^ a b \"Is Prabhas India\\'s First Legit Pan Indian Star?\\'\". Film Companion. 20 August 2020. Retrieved 7 February 2024.\\n\\n^ \"From Baahubali to Kalki: Rebel star Prabhas\\' is the biggest Pan Indian superstar\". Moneycontrol. 24 July 2024. Retrieved 22 September 2024.\\n\\n^ K, Janani (23 December 2023). \"Prabhas decoded: How and why \\'Salaar\\' star is a pan-India superstar\". India Today. Chennai. Retrieved 22 September 2024.\\n\\n^ \"Salaar Worldwide Box Office Update\". Box Office India. 5 January 2024.\\n\\n^ \"Prabhas dominates box office with Kalki 2898 AD earns more than Rs 1000 crore worldwide, following Baahubali 2 triumph\". 12 July 2024.\\n\\n^ \"Baahubali 2 star Prabhas becomes first South Indian actor to get a wax statue at Madame Tussauds. See pics\". The Indian Express. 2 May 2017. Archived from the original on 15 April 2018. Retrieved 14 April 2018.\\n\\n^ \"Actor Prabhas\\'s brother sentenced to one year imprisonment in cheque bounce case\". The News Minute. 16 March 2016. Archived from the original on 9 January 2019. Retrieved 8 January 2019.\\n\\n^ Mishra, Rashmi (26 May 2018). \"Bahubali 2 Movie Star Cast Educational Qualifications: Prabhas, Anushka Shetty & others are a studious bunch of actors!\". India.com. Archived from the original on 9 January 2019. Retrieved 8 January 2019.\\n\\n^ Pavan, P (28 April 2017). \"Bahubali 2: Police imposes Section 144 in Prabhas\\'s hometown\". Mumbai Mirror. Archived from the original on 11 January 2021. Retrieved 16 March 2021.\\n\\n^ a b \"Prabhas rejected over 6000 marriage proposals\". The Times of India. Archived from the original on 14 November 2022. Retrieved 14 November 2022.\\n\\n^ Reddy, R. Ravikanth (10 June 2017). \"Bahubali\\'s school adopts Kilimanjaro girl\". The Hindu. ISSN\\xa00971-751X. Archived from the original on 2 June 2021. Retrieved 14 March 2021.\\n\\n^ MUKHERJEE, RUMI (22 September 2023). \"Sai Pallavi, Prabhas to R Madhavan: 8 Celebs and their real educational qualification\".\\n\\n^ \"The fresh faces of Kannada cinema\". Cinema Express. 1 January 2019. Archived from the original on 19 January 2021. Retrieved 14 March 2021.\\n\\n^ \"Telugu Cinema - Review - Raghavendra - Prabhas, Anshu, Swetha Agarwal - Suresh Krishna - Posani\". www.idlebrain.com. Retrieved 28 July 2024.\\n\\n^ Web, Statesman (21 July 2023). \"Top 5 Prabhas movies: Baahubali to Varsham\". The Statesman. Retrieved 28 July 2024.\\n\\n^ \"Prabhas, Asin-starrer Chakram Completes 17 Years of Release\". News18. 26 March 2022. Retrieved 28 July 2024.\\n\\n^ Chatrapati – Telugu cinema – 100 days centers – Prabhas & Shriya Archived 13 September 2015 at the Wayback Machine. Idlebrain.com. Retrieved 28 April 2016.\\n\\n^ Chatrapati – Telugu cinema Review – Prabhas, Shriya Archived 13 October 2005 at the Wayback Machine. Idlebrain.com (29 September 2005). Retrieved 28 April 2016.\\n\\n^ \"Prabhas: Living the role\". The Times of India. 7 June 2008. ISSN\\xa00971-8257. Retrieved 28 July 2024.\\n\\n^ \"On Prabhas\\' 43rd Birthday, Billa and Varsham to Hit Theatres Again\". News18. 10 September 2022. Retrieved 28 July 2024.\\n\\n^ \"Movie Review\\xa0: Darling\". Sify. 13 July 2013. Archived from the original on 13 July 2013. Retrieved 28 July 2024.\\n\\n^ \"Darling Review\". The Times of India. Archived from the original on 5 November 2012. Retrieved 24 April 2010.\\n\\n^ Web, Statesman (13 May 2024). \"Prabhas\\'s \\'Mr Perfect\\' sparks fan frenzy in Japan\". The Statesman. Retrieved 28 July 2024.\\n\\n^ \"\\'Mr Perfect\\' Review: Perfect With Slight Imperfection\". greatandhra. Archived from the original on 25 April 2011. Retrieved 21 April 2011.\\n\\n^ \"Prabhas\\' Mr. Perfect, 13 Year old Movie Screened in Japan, \\'shows go Housefull\\'\". 18 July 2024. Archived from the original on 18 July 2024. Retrieved 28 July 2024.\\n\\n^ \"Prabhas\\' Rebel Telugu movie review highlights\". The Times of India. Archived from the original on 16 January 2014. Retrieved 28 September 2012.\\n\\n^ \"Rebel movie review\". New Delhi: NDTV. Archived from the original on 30 September 2012. Retrieved 28 September 2012.\\n\\n^ \"Denikaina Ready audio on Sep 23\". The Times of India. TNN. 12 September 2012. Archived from the original on 27 August 2017. Retrieved 14 June 2015.\\n\\n^ \"Prabhas\\' Top 10 Highest Grossing Films\". www.timesnownews.com. Retrieved 30 July 2024.\\n\\n^ \"Movie Review: Mirchi | NDTV Movies.com\". 11 February 2013. Archived from the original on 11 February 2013. Retrieved 30 July 2024.\\n\\n^ \"Prabhas Mirchi review - Telugu/Tamil cinema - Prabhas, Anushka, Richa Gangopadhyay\". www.idlebrain.com. Retrieved 30 July 2024.\\n\\n^ \"Tuesday Trivia: Did you know Prabhas made a special appearance in THIS Bollywood film before becoming a pan-India star with Baahubali?\". Bollywood Life. 3 November 2020. Archived from the original on 25 June 2021. Retrieved 25 June 2021.\\n\\n^ McCahill, Mike (7 December 2015). \"Baahubali: The Beginning review – fantastic bang for your buck in most expensive Indian movie ever made\". The Guardian. Retrieved 3 July 2024.\\n\\n^ Oops... \\'PK\\' Is Not Actually India\\'s Top-Grossing Movie Ever Archived 14 August 2016 at the Wayback Machine. Forbes.com (14 August 2015). Retrieved 28 April 2016.\\n\\n^ \"\\'Baahubali\\' Zooms Past \\'Dhoom\\', Now India\\'s All Time #3\". Forbes. Archived from the original on 1 August 2017. Retrieved 8 September 2017.\\n\\n^ McCahill, Mike (12 July 2015). \"Baahubali: The Beginning review – fantastic bang for your buck in most expensive Indian movie ever made\". The Guardian. Archived from the original on 14 August 2015. Retrieved 12 December 2016.\\n\\n^ McCahill, Mike (28 April 2017). \"Baahubali 2: The Conclusion review – joyous action epic soars\". the Guardian. ISSN\\xa00261-3077. Retrieved 3 July 2024.\\n\\n^ \"Bahubali 2 Hits 1000\\xa0Crore Worldwide In Ten Days\". Box Office India. Archived from the original on 19 November 2020. Retrieved 5 December 2020.\\n\\n^ \"Baahubali 2\\'s Rs\\xa01000\\xa0crore collection: How SS Rajamouli\\'s film achieved its box office numbers\". First Post. 8 May 2017. Archived from the original on 17 May 2017. Retrieved 14 May 2017.\\n\\n^ Baahubali 2 Creates History, Becomes First Indian Movie Ever To Collect Rs\\xa01,000\\xa0Crore Archived 20 May 2017 at the Wayback Machine. Ndtv.com (30 April 2017). Retrieved 8 May 2017.\\n\\n^ \"Baahubali Was Worth It. But Prabhas Says No More 5-Year Films\". NDTV.com. 14 October 2017. Retrieved 20 July 2024.\\n\\n^ SNS (25 April 2017). \"Baahubali: Battle wounds on Prabhas!\". The Statesman. Retrieved 28 July 2024.\\n\\n^ Correspondent, D. C. (22 April 2017). \"Exclusive: Baahubali stunts give Prabhas scars for life\". www.deccanchronicle.com. Retrieved 28 July 2024. {{cite web}}: |last= has generic name (help)\\n\\n^ \"Baahubali 2: 10 Things You Didn\\'t Know About Prabhas\". NDTV.com. Archived from the original on 25 June 2021. Retrieved 25 June 2021.\\n\\n^ \"SIIMA Awards | 2018 | winners\". siima.in. Archived from the original on 4 June 2020. Retrieved 2 June 2020.\\n\\n^ \"How Prabhas Became a Pan-India Star and the Highest-paid Actor in the Country\". News18. 14 January 2022. Archived from the original on 12 March 2022. Retrieved 12 March 2022.\\n\\n^ a b \"Prabhas is the only pan-India superstar at present; total budget of his 4 upcoming films are a huge Rs. 700\\xa0crores!\". Bollywood Hungama. 15 December 2020. Archived from the original on 24 October 2021. Retrieved 25 June 2021.\\n\\n^ \"Saaho (2019)\", Rotten Tomatoes, Fandango, archived from the original on 31 August 2019, retrieved 29 June 2024\\n\\n^ \"Saaho box office collection Day 1: Prabhas and Shraddha Kapoor film earns over Rs 100 cr\". Zee Business. 31 August 2019. Retrieved 1 July 2024.\\n\\n^ Hungama, Bollywood (12 September 2019). \"Saaho Box Office Collections – The Prabhas starrer Saaho (Hindi) is a hit, to do almost double of opening weekend business :Bollywood Box Office - Bollywood Hungama\". Bollywood Hungama. Retrieved 1 July 2024.\\n\\n^ \"Saaho Is Out in the South\". Box Office India. 9 September 2019. Archived from the original on 7 October 2019. Retrieved 8 September 2019.\\n\\n^ \"Radhe Shyam Movie Review\\xa0: A love story whose destiny could have been something else…\". The Times of India. Archived from the original on 11 March 2022. Retrieved 11 March 2022.\\n\\n^ \"Prabhas and Pooja Hegde\\'s love drama opens with mixed reception from the masses over the dull narrative\". DNA India. 11 March 2022. Archived from the original on 12 March 2022. Retrieved 12 March 2022. the film has received mixed responses from critics, criticising the weak narrative and unreal screenplay.\\n\\n^ \"Radhe Shyam – Movie\". Box Office India. Archived from the original on 6 April 2018. Retrieved 6 April 2018.\\n\\n^ Kumar, Anuj (16 June 2023). \"\\'Adipurush\\' movie review: Prabhas falters in this black-and-white retelling of the \\'Ramayana\\'\". The Hindu. ISSN\\xa00971-751X. Retrieved 4 February 2024.\\n\\n^ Gopalan, Krishna (30 June 2023). \"Prabhas\\' \\'Adipurush\\' shows enough signs to be categorised a flop; OTT rights may be renegotiated\". Business Today. Archived from the original on 30 June 2023. Retrieved 12 September 2023.\\n\\n^ \"Salaar: Part 1 - Ceasefire\". Rotten Tomatoes.\\n\\n^ \"\\'Salaar\\' worldwide box office collection: Prabhas-starrer nears Rs 675 cr gross in 15 days\". Business Today. 6 January 2024. Retrieved 15 July 2024.\\n\\n^ \"Salaar In OTT: ఓటీటీలోకి సలార్.. ఇవాళ చూస్తారా?\". News18 తెలుగు (in Telugu). 19 January 2024. Retrieved 1 July 2024.\\n\\n^ K, Janani (24 July 2021). \"Prabhas gives first clap for Amitabh Bachchan as Nag Ashwin\\'s sci-fi film goes on floors\". India Today. Archived from the original on 24 July 2021. Retrieved 24 July 2021.\\n\\n^ Jha, Subhash K. (27 November 2020). \"Amitabh Bachchan will feature in a full length role in Prabhas and Deepika Padukone starrer film\". Bollywood Hungama. Archived from the original on 8 June 2022. Retrieved 27 June 2024.\\n\\n^ Malhotra, Rahul (1 July 2024). \"\\'Kalki 2898 AD\\' Delivers the Biggest Global Box Office Debut in Indian Cinema History\". Collider. Retrieved 3 July 2024.\\n\\n^ \"Kalki 2898 AD worldwide box office collection day 1: Prabhas, Deepika Padukone\\'s film collects ₹191.5 crore\". Hindustan Times. 28 June 2024. Retrieved 30 June 2024.\\n\\n^ Malhotra, Rahul (1 July 2024). \"\\'Kalki 2898 AD\\' Delivers the Biggest Global Box Office Debut in Indian Cinema History\". Collider. Retrieved 3 July 2024.\\n\\n^ \"Kalki 2898 AD box office collection day 29: Prabhas\\' sci-fi epic demolishes Rs 1100 crore mark worldwide, can it overtake Jawan?\". The Indian Express. 26 July 2024. Retrieved 30 July 2024.\\n\\n^ \"Prabhas dominates box office with Kalki 2898 AD earns more than Rs 1000 crore worldwide, following Baahubali 2 triumph\". 12 July 2024.\\n\\n^ \"Prabhas Movie Budget: मेगाबजट फिल्मों में नजर आएंगे प्रभास, स्पिरिट-कल्कि 2-द राजा साब-सालार सीक्वल भी शामिल\". Amar Ujala (in Hindi). Retrieved 17 November 2024.\\n\\n^ \"Prabhas\\' Look From Vishnu Manchu\\'s Kannappa Gets LEAKED, Production House Announces Rs 5 Lac Reward To Find Perpetrator\". Times Now. 9 November 2024. Retrieved 17 November 2024.\\n\\n^ \"Prabhas\\' next The Raja Saab to have iconic remake song in its music album? Composer S Thaman spills beans\". PINKVILLA. 16 November 2024. Retrieved 17 November 2024.\\n\\n^ \"Prabhas starts filming \\'Salaar: Part 2 – Shouryaanga Parvam\\'\". Deccan Herald. Retrieved 17 November 2024.\\n\\n^ \"Prabhas\\'s Spirit to release in 2026, producer shares update on Ranbir\\'s Animal Park\". India Today. 13 November 2024. Retrieved 17 November 2024.\\n\\n^ \"Prabhas begins new historical drama with director Hanu Raghavapudi, first look and pooja ceremony pics go viral\". The Times of India. 19 August 2024. ISSN\\xa00971-8257. Retrieved 17 November 2024.\\n\\n^ \"Prabhas gets 3 releases in 3 years as per new deal with KGF makers, Salaar 2 first\". India Today. 8 November 2024. Retrieved 17 November 2024.\\n\\n^ \"Baahubali joins PM Modi\\'s Swachhata Hi Seva campaign, says it is his habit to keep country clean\". Financialexpress. 30 September 2017. Retrieved 7 August 2024.\\n\\n^ \"Telugu actor Prabhas donates ₹4 crore for fight against coronavirus\". mint. 27 March 2020. Retrieved 23 May 2024.\\n\\n^ \"Prabhas Adopts 1,650 Acres of Khazipally Reserve Forest Near Hyderabad\". NDTV.com. Retrieved 23 May 2024.\\n\\n^ Subrahmanyam, V. V. (16 November 2020). \"Film star Prabhas\\' gesture\". The Hindu. ISSN\\xa00971-751X. Retrieved 3 June 2024.\\n\\n^ \"Prabhas Donates Rs 1 Crore To Andhra Pradesh CM Relief Fund For Flood Victims\". News18. 7 December 2021. Retrieved 3 June 2024.\\n\\n^ \"Prabhas Donates Rs 10 Lakh For Development Of Sri Seetha Ramachandra Swamy Devathanam\". News18. 15 May 2023. Retrieved 30 July 2024.\\n\\n^ \"Prabhas donates Rs 35 lakh to Telugu Film Directors Association\". India Today. 23 April 2024. Retrieved 28 July 2024.\\n\\n^ \"Prabhas donates Rs 2 crore to Wayanad landslide relief fund\". India Today. 7 August 2024. Retrieved 7 August 2024.\\n\\n^ \"Rebel Star Prabhas Donates Rs 2 Crores For Kerala Landslide Relief Work\". Times Now. 7 August 2024. Retrieved 7 August 2024.\\n\\n^ \"Allu Arjun, Prabhas, Mahesh Babu Donate For Flood-Hit Regions Of Andhra Pradesh And Telangana\". www.ndtv.com. Retrieved 23 October 2024.\\n\\n^ \"Prabhas donates Rs 2 crore, Allu Arjun sends Rs 1 crore to CM Relief Funds for flood-affected people in AP and Telangana\". PINKVILLA. 4 September 2024. Retrieved 23 October 2024.\\n\\n^ \"Prabhas decoded: How and why \\'Salaar\\' star is a pan-India superstar\". India Today. 23 December 2023. Retrieved 7 February 2024.\\n\\n^ \"Salaar Director Prashanth Praises Prabhas As Pan-India Star With Heart Of Gold\". Zee News. Retrieved 7 February 2024.\\n\\n^ Aditya (14 June 2023). \"Prabhas is the real Pan-Indian star and Global star from Tollywood\". TrackTollywood. Retrieved 7 February 2024.\\n\\n^ \"Prabhas – a flagbearer of introducing the trend of Pan India films in the nation\". The Times of India. 11 November 2022. ISSN\\xa00971-8257. Retrieved 7 February 2024.\\n\\n^ \"Prabhas on why he is called \\'Darling\\'!\". The Times of India. 20 October 2021. Archived from the original on 23 January 2023. Retrieved 19 July 2023.\\n\\n^ \"When \\'Young Rebel Star\\' Prabhas revealed he is not comfortable with such titles\". Hindustan Times. 23 October 2023. Archived from the original on 2 January 2024. Retrieved 2 January 2024.\\n\\n^ \"Prabhas – The second most desirable in India\". Sify. Archived from the original on 4 May 2018. Retrieved 25 June 2021.\\n\\n^ \"\\'The Times 50 Most Desirable Men Of 2018\\' List Is Out & Guess Who The Top 5 Most Wanted Men Are\". mensxp.com. 17 May 2019. Archived from the original on 25 June 2021. Retrieved 25 June 2021.\\n\\n^ @HydTimes (2 June 2021). \"Forever Desirable\\xa0: The latest to join the club is our very own #Baahubali, #Prabhas, who enjoys a huge fan following! #HydTimesMostDesirableMen2020 #ForeverDesirable\" (Tweet) – via Twitter.\\n\\n^ \"Prabhas joins Hyd Times Forever Desirable list\". 123telugu.com. 2 June 2021. Archived from the original on 25 June 2021. Retrieved 25 June 2021.\\n\\n^ \"Ajith, Prabhas are Karnataka\\'s most-searched actors\". The Times of India. Archived from the original on 27 June 2021. Retrieved 25 June 2021.\\n\\n^ \"Prabhas makes it to the Top 10 list of Sexiest Asian Men of 2019; only actor from South\". The Times of India. Archived from the original on 26 June 2021. Retrieved 21 June 2021.\\n\\n^ \"Meet the SEXIEST Asian Male of 2019\". Rediff. Archived from the original on 24 June 2021. Retrieved 21 June 2021.\\n\\n^ \"GQ\\'s Most Influential Young Indians 2017: Artistes\". GQ India. 7 July 2017. Archived from the original on 25 June 2021. Retrieved 25 June 2021.\\n\\n^ Sharma, Bhavana (10 August 2024). \"Top 10 Tollywood actors who are ruling social media\". www.deccanchronicle.com. Archived from the original on 5 October 2024. Retrieved 23 December 2024.\\n\\n^ \"Top 10 Tollywood actors with most number of Instagram followers; Rashmika Mandanna, Allu Arjun to Samantha Ruth Prabhu, check full list\". PINKVILLA. 6 August 2024. Archived from the original on 24 August 2024. Retrieved 23 December 2024.\\n\\n^ \"Prabhas refuses to take up brand endorsements worth Rs\\xa0150\\xa0crores, why?\". The Siasat Daily. 23 June 2021. Archived from the original on 25 June 2021. Retrieved 25 June 2021.\\n\\n^ \"Mahindra TUV300: Baahubali actor Prabhas makes his TVC debut\". 3 October 2015. Archived from the original on 30 March 2019. Retrieved 7 December 2018.\\n\\n^ \"Prabhas Rejected Brand Endorsements Worth Rs\\xa0150\\xa0crore in Past Year, Here\\'s Why\". news18.com. 23 June 2021. Archived from the original on 25 June 2021. Retrieved 25 June 2021.\\n\\n\\nExternal links\\n\\n\\n\\nWikimedia Commons has media related to Prabhas.\\n\\nPrabhas at IMDb\\nvteNandi Award for Best ActorNandi Awards1977–1980\\nKrishnam Raju (1977)\\nHema Sundar (1978)\\nGokina Rama Rao (1979)\\nM. Prabhakar Reddy (1980)\\n1981–1990\\nM. Prabhakar Reddy (1981)\\nAkkineni Nageswara Rao (1982)\\nKamal Haasan (1983)\\nKrishnam Raju (1984)\\nMurali Mohan (1985)\\nKamal Haasan (1986)\\nChiranjeevi (1987)\\nVenkatesh (1988)\\nKamal Haasan (1989)\\nRajendra Prasad (1990)\\n1991–2000\\nDasari Narayana Rao (1991)\\nChiranjeevi (1992)\\nJagapathi Babu and Suman (1993)\\nAkkineni Nageswara Rao (1994)\\nVenkatesh and Naresh (1995)\\nJagapathi Babu (1996)\\nNagarjuna (1997)\\nVenkatesh (1998)\\nVenkatesh (1999)\\nJagapathi Babu (2000)\\n2001–2010\\nNandamuri Balakrishna (2001)\\nChiranjeevi and Nagarjuna (2002)\\nMahesh Babu (2003)\\nRajendra Prasad (2004)\\nMahesh Babu (2005)\\nNagarjuna (2006)\\nVenkatesh (2007)\\nRavi Teja (2008)\\nDasari Narayana Rao (2009)\\nNandamuri Balakrishna (2010)\\n2011–present\\nMahesh Babu (2011)\\nNani (2012)\\nPrabhas (2013)\\nNandamuri Balakrishna (2014)\\nMahesh Babu (2015)\\nN. T. Rama Rao Jr (2016)\\n Category\\nvteSIIMA Award for Best Actor – Telugu2011–2020\\nMahesh Babu (2011)\\nPawan Kalyan (2012)\\nMahesh Babu (2013)\\nNandamuri Balakrishna (2014)\\nMahesh Babu (2015)\\nN. T. Rama Rao Jr (2016)\\nPrabhas (2017)\\nRam Charan (2018)\\nMahesh Babu (2019)\\nAllu Arjun (2020)\\n2021–present\\nAllu Arjun (2021)\\nN. T. Rama Rao Jr (2022)\\nNani (2023)\\nvteSantosham Best Actor Award2003–2010\\nChiranjeevi (2003)\\nChiranjeevi (2004)\\nVenkatesh (2005)\\nMahesh Babu (2006)\\nVenkatesh (2007)\\nNandamuri Balakrishna (2008)\\nRam Charan (2009)\\nNandamuri Balakrishna (2010)\\n2011–2020\\nNandamuri Balakrishna (2011)\\nMahesh Babu (2012)\\nPawan Kalyan (2013)\\nRam Charan (2014)\\nPrabhas (2015)\\nNaga Chaitanya (2016)\\nChiranjeevi (2017)\\nKartikeya Gummakonda (2018)\\n– (2019)\\n– (2020)\\n2021–present\\nAllu Arjun (2021)\\nAdivi Sesh (2022)\\nAnand Deverakonda (2023)\\nAuthority control databases InternationalISNIVIAFWorldCatNationalGermanyUnited StatesFranceBnF dataArtistsMusicBrainz\\n\\n\\n\\n\\nRetrieved from \"https://en.wikipedia.org/w/index.php?title=Prabhas&oldid=1283706081\"\\nCategories: 1979 births21st-century Indian male actorsIndian male film actorsLiving peopleMale actors from Andhra PradeshPeople from West Godavari districtTelugu male actorsNandi Award winnersMale actors in Telugu cinemaMale actors in Hindi cinemaMale actors in Tamil cinemaPeople from Andhra PradeshIndian actorsFilm people from Andhra PradeshSouth Indian International Movie Awards winnersSantosham Film Awards winnersKrishnam RajuHidden categories: Webarchive template wayback linksCS1 errors: generic nameCS1 Telugu-language sources (te)CS1 Hindi-language sources (hi)Articles with short descriptionShort description is different from WikidataWikipedia indefinitely move-protected pagesWikipedia indefinitely semi-protected biographies of living peopleUse dmy dates from November 2024Use Indian English from November 2024All Wikipedia articles written in Indian EnglishArticles with hCardsPages with Telugu IPACommons category link from Wikidata\\n\\n\\n\\n\\n\\n\\n This page was last edited on 3 April 2025, at 04:45\\xa0(UTC).\\nText is available under the Creative Commons Attribution-ShareAlike 4.0 License;\\nadditional terms may apply. By using this site, you agree to the Terms of Use and Privacy Policy. Wikipedia® is a registered trademark of the Wikimedia Foundation, Inc., a non-profit organization.\\n\\n\\nPrivacy policy\\nAbout Wikipedia\\nDisclaimers\\nContact Wikipedia\\nCode of Conduct\\nDevelopers\\nStatistics\\nCookie statement\\nMobile view\\n\\n\\n\\n\\n\\n\\n\\n\\n\\n\\n\\n\\n\\n\\nSearch\\n\\n\\n\\n\\n\\n\\n\\n\\n\\n\\n\\n\\n\\nSearch\\n\\n\\n\\n\\n\\n\\n\\n\\n\\nToggle the table of contents\\n\\n\\n\\n\\n\\n\\n\\nPrabhas\\n\\n\\n\\n\\n\\n\\n\\n\\n\\n\\n\\n\\n\\n\\n\\n\\n\\n\\n\\n\\n\\n\\n\\n\\n\\n\\n\\n\\n49 languages\\n\\n\\nAdd topic\\n\\n\\n\\n\\n\\n\\n\\n\\n\\n\\n\\n\\n\\n\\n\\n\\n')]"
      ]
     },
     "execution_count": 127,
     "metadata": {},
     "output_type": "execute_result"
    }
   ],
   "source": [
    "from langchain_community.document_loaders import WebBaseLoader\n",
    "\n",
    "loader=WebBaseLoader(web_path=r\"https://en.wikipedia.org/wiki/Prabhas\")\n",
    "\n",
    "loaded=loader.load()\n",
    "\n",
    "loaded"
   ]
  },
  {
   "cell_type": "markdown",
   "metadata": {},
   "source": [
    "text splitting"
   ]
  },
  {
   "cell_type": "code",
   "execution_count": 128,
   "metadata": {},
   "outputs": [
    {
     "data": {
      "text/plain": [
       "[Document(metadata={'source': 'https://en.wikipedia.org/wiki/Prabhas', 'title': 'Prabhas - Wikipedia', 'language': 'en'}, page_content='Prabhas - Wikipedia\\n\\n\\n\\n\\n\\n\\n\\n\\n\\n\\n\\n\\n\\n\\n\\n\\n\\n\\n\\n\\n\\n\\n\\n\\n\\n\\n\\n\\n\\n\\n\\n\\n\\n\\n\\nJump to content\\n\\n\\n\\n\\n\\n\\n\\nMain menu\\n\\n\\n\\n\\n\\nMain menu\\nmove to sidebar\\nhide\\n\\n\\n\\n\\t\\tNavigation\\n\\t\\n\\n\\nMain pageContentsCurrent eventsRandom articleAbout WikipediaContact us\\n\\n\\n\\n\\n\\n\\t\\tContribute\\n\\t\\n\\n\\nHelpLearn to editCommunity portalRecent changesUpload fileSpecial pages\\n\\n\\n\\n\\n\\n\\n\\n\\n\\n\\n\\n\\n\\n\\n\\n\\n\\n\\n\\nSearch\\n\\n\\n\\n\\n\\n\\n\\n\\n\\n\\n\\nSearch\\n\\n\\n\\n\\n\\n\\n\\n\\n\\n\\n\\n\\n\\n\\n\\n\\n\\n\\n\\n\\n\\n\\nAppearance\\n\\n\\n\\n\\n\\n\\n\\n\\n\\n\\n\\n\\n\\n\\n\\n\\nDonate\\n\\nCreate account\\n\\nLog in\\n\\n\\n\\n\\n\\n\\n\\n\\nPersonal tools\\n\\n\\n\\n\\n\\nDonate Create account Log in\\n\\n\\n\\n\\n\\n\\t\\tPages for logged out editors learn more\\n\\n\\n\\nContributionsTalk\\n\\n\\n\\n\\n\\n\\n\\n\\n\\n\\n\\n\\n\\n\\n\\n\\n\\n\\n\\n\\n\\n\\n\\n\\n\\n\\n\\n\\nContents\\nmove to sidebar\\nhide\\n\\n\\n\\n\\n(Top)\\n\\n\\n\\n\\n\\n1\\nEarly life and education\\n\\n\\n\\n\\n\\n\\n\\n\\n2\\nCareer\\n\\n\\n\\n\\nToggle Career subsection\\n\\n\\n\\n\\n\\n2.1\\n2002–2014: Early work and career progression\\n\\n\\n\\n\\n\\n\\n\\n\\n2.2\\n2015–present: Pan-India success, setback and resurgence\\n\\n\\n\\n\\n\\n\\n\\n\\n2.3\\nUpcoming projects\\n\\n\\n\\n\\n\\n\\n\\n\\n\\n\\n3\\nHumanitarian and social causes\\n\\n\\n\\n\\n\\n\\n\\n\\n4\\nMedia image and other work\\n\\n\\n\\n\\n\\n\\n\\n\\n5\\nFilmography and awards\\n\\n\\n\\n\\n\\n\\n\\n\\n6\\nReferences'),\n",
       " Document(metadata={'source': 'https://en.wikipedia.org/wiki/Prabhas', 'title': 'Prabhas - Wikipedia', 'language': 'en'}, page_content='2.3\\nUpcoming projects\\n\\n\\n\\n\\n\\n\\n\\n\\n\\n\\n3\\nHumanitarian and social causes\\n\\n\\n\\n\\n\\n\\n\\n\\n4\\nMedia image and other work\\n\\n\\n\\n\\n\\n\\n\\n\\n5\\nFilmography and awards\\n\\n\\n\\n\\n\\n\\n\\n\\n6\\nReferences\\n\\n\\n\\n\\n\\n\\n\\n\\n7\\nExternal links\\n\\n\\n\\n\\n\\n\\n\\n\\n\\n\\n\\n\\n\\n\\n\\n\\n\\n\\nToggle the table of contents\\n\\n\\n\\n\\n\\n\\n\\nPrabhas\\n\\n\\n\\n49 languages\\n\\n\\n\\n\\nالعربيةঅসমীয়াবাংলাभोजपुरीБългарскиDanskडोटेलीفارسیFiji HindiFrançaisગુજરાતી한국어HausaՀայերենहिन्दीBahasa IndonesiaItalianoಕನ್ನಡमैथिलीമലയാളംमराठीمصرىBahasa Melayuꯃꯤꯇꯩ ꯂꯣꯟမြန်မာဘာသာNederlandsनेपाली日本語Oʻzbekcha / ўзбекчаਪੰਜਾਬੀپنجابیپښتوPolskiPortuguêsРусскийसंस्कृतम्ᱥᱟᱱᱛᱟᱲᱤسرائیکیසිංහලSimple EnglishСрпски / srpskiSuomiதமிழ்తెలుగుТоҷикӣاردوئۇيغۇرچە / UyghurcheVepsän kel’中文\\n\\nEdit links\\n\\n\\n\\n\\n\\n\\n\\n\\n\\n\\n\\nArticleTalk\\n\\n\\n\\n\\n\\nEnglish\\n\\n\\n\\n\\n\\n\\n\\n\\n\\n\\n\\n\\n\\n\\n\\n\\n\\nReadView sourceView history\\n\\n\\n\\n\\n\\n\\n\\nTools\\n\\n\\n\\n\\n\\nTools\\nmove to sidebar\\nhide\\n\\n\\n\\n\\t\\tActions\\n\\t\\n\\n\\nReadView sourceView history\\n\\n\\n\\n\\n\\n\\t\\tGeneral\\n\\t\\n\\n\\nWhat links hereRelated changesUpload filePermanent linkPage informationCite this pageGet shortened URLDownload QR code\\n\\n\\n\\n\\n\\n\\t\\tPrint/export'),\n",
       " Document(metadata={'source': 'https://en.wikipedia.org/wiki/Prabhas', 'title': 'Prabhas - Wikipedia', 'language': 'en'}, page_content='ReadView sourceView history\\n\\n\\n\\n\\n\\n\\t\\tGeneral\\n\\t\\n\\n\\nWhat links hereRelated changesUpload filePermanent linkPage informationCite this pageGet shortened URLDownload QR code\\n\\n\\n\\n\\n\\n\\t\\tPrint/export\\n\\t\\n\\n\\nDownload as PDFPrintable version\\n\\n\\n\\n\\n\\n\\t\\tIn other projects\\n\\t\\n\\n\\nWikimedia CommonsWikidata item\\n\\n\\n\\n\\n\\n\\n\\n\\n\\n\\n\\n\\n\\n\\n\\n\\n\\n\\n\\n\\n\\nAppearance\\nmove to sidebar\\nhide\\n\\n\\n\\n\\n\\n\\n\\n\\n\\n\\n\\nFrom Wikipedia, the free encyclopedia\\n\\n\\nIndian actor (born 1979)\\nThis article is about the actor born in 1979. For other uses, see Prabhas (disambiguation).'),\n",
       " Document(metadata={'source': 'https://en.wikipedia.org/wiki/Prabhas', 'title': 'Prabhas - Wikipedia', 'language': 'en'}, page_content='PrabhasPrabhas at the 2023 San Diego Comic-ConBornUppalapati Venkata Suryanarayana Prabhas Raju[1][2] (1979-10-23) 23 October 1979 (age\\xa045)[3]Madras (now Chennai), Tamil Nadu, IndiaEducationSri Chaitanya College, Hyderabad (BTech)OccupationActorYears\\xa0active2002–presentWorksFull listFatherUppalapati Surya Narayana RajuRelativesKrishnam Raju (uncle)AwardsFull list\\nUppalapati Venkata Suryanarayana Prabhas Raju ([pɾabʱaːs]; born 23 October 1979), known mononymously as Prabhas, is an Indian actor who predominantly works in Telugu cinema.[4] He is one of the highest-paid actors in Indian cinema and has been featured in Forbes India\\'s Celebrity 100 list since 2015.[9] Referred to in the media as the \"Rebel Star\", he has appeared in over 20 films, and has received seven Filmfare Awards nominations, a Nandi Award, and a SIIMA Award.[10][11]'),\n",
       " Document(metadata={'source': 'https://en.wikipedia.org/wiki/Prabhas', 'title': 'Prabhas - Wikipedia', 'language': 'en'}, page_content='Prabhas made his acting debut with the drama Eeswar (2002), and later attained his breakthrough with the action romance Varsham (2004). He went on to star in other commercially successful films such as Chatrapathi (2005), Bujjigadu (2008), Billa (2009), Darling (2010), Mr. Perfect (2011), and Mirchi (2013), winning the Nandi Award for Best Actor for his performance in the lattermost.[12][13] He went on to play a dual role in the epic action duology Baahubali: The Beginning (2015) and Baahubali 2: The Conclusion (2017), with the latter emerging as the highest-grossing Indian film at that point, establishing Prabhas as the first pan-Indian star.[14][15][16][17] He achieved further box office success with the action thriller Saaho (2019), the action drama Salaar: Part 1 – Ceasefire (2023), and the science fiction film Kalki 2898 AD (2024).[18][19]'),\n",
       " Document(metadata={'source': 'https://en.wikipedia.org/wiki/Prabhas', 'title': 'Prabhas - Wikipedia', 'language': 'en'}, page_content=\"Prabhas is the only Indian actor to have six films with a worldwide gross opening of over ₹100 crore. He is also the only South Indian actor with six films that have crossed the ₹100 crore nett mark in the Hindi market. Furthermore, Prabhas is the first Indian actor to have a film gross over ₹1000 crore worldwide. Additionally, Prabhas is the first South Indian actor to receive a wax sculpture at a Madame Tussaud's museum.[20]\"),\n",
       " Document(metadata={'source': 'https://en.wikipedia.org/wiki/Prabhas', 'title': 'Prabhas - Wikipedia', 'language': 'en'}, page_content='Early life and education\\nPrabhas was born on 23 October 1979 in a Telugu family to film producer Uppalapati Surya Narayana Raju and Siva Kumari in Madras (now Chennai). The youngest of three children, he has an elder brother, Prabodh, and elder sister, Pragathi.[3][21][22] He is the nephew of Telugu film actor Krishnam Raju.[3] His family hails from Mogalthur, near Bhimavaram of West Godavari district, Andhra Pradesh.[23]\\nPrabhas did his schooling at Don Bosco Matriculation Higher Secondary School, Chennai, and at DNR High School, Bhimavaram.[24] He then completed his intermediate education from Nalanda College, Hyderabad.[25][24] He later went on to pursue Bachelor of Technology (B.Tech) from Sri Chaitanya College, Hyderabad.[26] He is also an alumnus of Satyanand Film Institute, Visakhapatnam.[27]'),\n",
       " Document(metadata={'source': 'https://en.wikipedia.org/wiki/Prabhas', 'title': 'Prabhas - Wikipedia', 'language': 'en'}, page_content='Career\\n2002–2014: Early work and career progression'),\n",
       " Document(metadata={'source': 'https://en.wikipedia.org/wiki/Prabhas', 'title': 'Prabhas - Wikipedia', 'language': 'en'}, page_content=\"Prabhas made his debut with the 2002 action drama Eeswar. In 2003, he followed up with Raghavendra, which received mixed reviews while Idlebrain stated that Prabhas is so good in this film that you can watch it only for him, he is the superstar in making, and all he needs is the right director and right break.[28] He attained his breakthrough with the action romance Varsham (2004), which went on to be a blockbuster and one of the highest grossing Telugu films of the year.[29] He received his first nomination for the Filmfare Award for Best Actor – Telugu. He appeared in Adavi Raamudu (2004), the same year which received mostly negative reception from the critics and audience alike. In 2005, he appeared in Chakram, which received mixed reviews and went on to win two Nandi Awards.[30] Prabhas portrayed the role of a refugee, exploited by goons, in S. S. Rajamouli's action drama Chatrapathi, the same year. It emerged as a blockbuster and had a 100-day run in 54 centers.[31] Idlebrain.com\"),\n",
       " Document(metadata={'source': 'https://en.wikipedia.org/wiki/Prabhas', 'title': 'Prabhas - Wikipedia', 'language': 'en'}, page_content='portrayed the role of a refugee, exploited by goons, in S. S. Rajamouli\\'s action drama Chatrapathi, the same year. It emerged as a blockbuster and had a 100-day run in 54 centers.[31] Idlebrain.com stated that \"he had a unique style and macho charm in his screen presence\".[32] Chatrapathi earned him his second nomination for the Filmfare Award for Best Actor – Telugu.'),\n",
       " Document(metadata={'source': 'https://en.wikipedia.org/wiki/Prabhas', 'title': 'Prabhas - Wikipedia', 'language': 'en'}, page_content=\"In 2006, Prabhas starred in the musical drama Pournami, which garnered mixed critical reception but earned praise for the cast's performances. In 2007, he starred in action drama Yogi and Munna, both of which received lukewarm response from both audience and fans alike. In 2008, Prabhas collaborated with the director Puri Jagannadh for action-comedy Bujjigadu which gave him a much needed box-office comeback and he received critical acclaim for his performance.[33] In 2009, Prabhas played a dual role in the action thriller Billa (2009), which went on to be a blockbuster at box-office.[34] Later that year, he starred in Ek Niranjan (2009), which opened to mixed reviews, and earned him his third nomination for the Filmfare Award for Best Actor – Telugu.\"),\n",
       " Document(metadata={'source': 'https://en.wikipedia.org/wiki/Prabhas', 'title': 'Prabhas - Wikipedia', 'language': 'en'}, page_content='In 2010, he appeared in the romantic comedy Darling which received positive reviews from audiences and critics. It went on to be one of the highest grossers of the year and critics lauded Prabhas\\'s performance, as the major highlight of the film.[35] The Times of India noted the film to be derivative and that the director hasn\\'t really come out of his previous work Tholi Prema.[36] In 2011, Prabhas starred in romantic drama Mr. Perfect, which received positive reviews and went on to be a blockbuster. His performance in the film earned him his fourth nomination for the Filmfare Award for Best Actor – Telugu. The Statesman described the film as a \"timeless classic\".[37] The review site GreatAndhra rated the film with three stars and noted \"The film comes across as a clean, family entertainer and the intention of the makers must be appreciated.[38] In 2024, the film was re-released in Japan, garnering unanimous positive responses from the fans and the audiences alike, with every show'),\n",
       " Document(metadata={'source': 'https://en.wikipedia.org/wiki/Prabhas', 'title': 'Prabhas - Wikipedia', 'language': 'en'}, page_content='and the intention of the makers must be appreciated.[38] In 2024, the film was re-released in Japan, garnering unanimous positive responses from the fans and the audiences alike, with every show selling out.[39]'),\n",
       " Document(metadata={'source': 'https://en.wikipedia.org/wiki/Prabhas', 'title': 'Prabhas - Wikipedia', 'language': 'en'}, page_content='In 2012, Prabhas starred in the action Rebel, received mixed reviews from critics and underperformed at the box office. It was praised for cast performances, action sequences, and production values, but criticised for its plot and screenplay. The Times of India and NDTV stated that, the film serves up fare for the mass audience, and hard-core Prabhas fans.[40][41] He also rendered his voice for a short duration in the film Denikaina Ready (2012).[42] In 2013, Prabhas starred in Mirchi, which opened to positive reviews and went on to be a blockbuster. It was one of the highest grossing Telugu films of the year as well as one of the highest-grossing Telugu films of all time, at the time of its release.[43] His performance in the film earned him his fifth nomination for the Filmfare Award for Best Actor – Telugu. NDTV gave the film a mixed review, stating that \"apart from good direction and strong performance by the lead actor, Mirchi lacks narrative power and is loosely based on an'),\n",
       " Document(metadata={'source': 'https://en.wikipedia.org/wiki/Prabhas', 'title': 'Prabhas - Wikipedia', 'language': 'en'}, page_content='for Best Actor – Telugu. NDTV gave the film a mixed review, stating that \"apart from good direction and strong performance by the lead actor, Mirchi lacks narrative power and is loosely based on an amalgamation of some old films\".[44] Idlebrain stated that \"Mirchi is a film that is made to do a commercial hit. Prabhas entertains with Mirchi and director does a decent work. On a whole, Mirchi has all the ingredients of a commercial potboiler\".[45] He then made his Hindi cinema debut in 2014 in the special dance number \"Punjabi Mast\" from the film Action Jackson.[46]'),\n",
       " Document(metadata={'source': 'https://en.wikipedia.org/wiki/Prabhas', 'title': 'Prabhas - Wikipedia', 'language': 'en'}, page_content=\"2015–present: Pan-India success, setback and resurgence\\nPrabhas on the sets of Baahubali 2: The Conclusion\\nIn 2015, Prabhas played a dual role as Shivudu/Mahendra Baahubali and Amarendra Baahubali in S.S. Rajamouli's epic action drama Baahubali: The Beginning (2015). With a budget of ₹180 crore ($28 million), it was the most expensive Indian film ever made at the time of release,[47] and became a record-breaking box office success. The film eventually grossed over ₹600 crore (US$70\\xa0million) worldwide, making it the highest-grossing Telugu film and the second highest-grossing Indian film at that point. It is one of the highest-grossing Indian film to date.[48][49][50]  It received national and international acclaim, and started a new film movement called Pan-Indian films.\"),\n",
       " Document(metadata={'source': 'https://en.wikipedia.org/wiki/Prabhas', 'title': 'Prabhas - Wikipedia', 'language': 'en'}, page_content='Prabhas reprised his role in its sequel, Baahubali 2: The Conclusion (2017), with a budget of ₹250 crore ($36.87 million), it was the most expensive Indian film ever produced at the time of release.[51] It became the first Indian film ever to gross over ₹1,000 crore (US$120 million) worldwide in just ten days, first Indian film to gross ₹100 crore (US$12\\xa0million) and ₹200 crore (US$23\\xa0million) on its opening day, and highest-grossing Indian film at that point. The film eventually grossed over ₹1,810 crore (US$210\\xa0million) worldwide, making it second-highest-grossing Indian film worldwide to date and the highest-grossing film in India till date.[52][53][54]'),\n",
       " Document(metadata={'source': 'https://en.wikipedia.org/wiki/Prabhas', 'title': 'Prabhas - Wikipedia', 'language': 'en'}, page_content='Prabhas dedicated 5 years for the duology, stating that the project demanded a certain level of dedication and refrained from signing any other project over the tenure.[55][56] He underwent rigorous training to prepare for his dual role in the film. For the character of Shivudu, he reduced his weight to a lean 86-88 kilograms with a minimal body fat percentage of 5-6%. Conversely, for the role of Baahubali, he significantly had to increase his weight to a bulky 105 kilograms with a body fat composition of 8-10%.[57][58] He won the SIIMA Award for Best Actor – Telugu for his performance in The Conclusion.[59] His performance in both film earned him his sixth and seventh nominations for the Filmfare Award for Best Actor – Telugu. The success of Baahubali series propelled Prabhas to become the first “Pan-Indian\" star in Indian cinema, receiving significant following across India.[60][61]'),\n",
       " Document(metadata={'source': 'https://en.wikipedia.org/wiki/Prabhas', 'title': 'Prabhas - Wikipedia', 'language': 'en'}, page_content=\"Prabhas on the sets of Saaho\\nIn 2019, Prabhas starred in Sujeeth's action thriller Saaho.[62] Saaho opened to mixed reviews and grossed ₹130 crore worldwide on its opening day, making it Prabhas's second ₹100 crore opening day grosser. The film eventually grossed over ₹419 crore (US$49\\xa0million) at the box-office.[63] The Telugu version of the film underperformed, while the Hindi version was a hit.[64][65] In 2022, Prabhas appeared in the period romance drama Radhe Shyam which received poor reviews from critics & proved to be a box office bomb.[66][67][68] In 2023, Prabhas portrayed Lord Ram in the mythological action film Adipurush, an adaptation of Hindu epic the Ramayana.[69] It received highly negative response from critics as well as the audience, who criticised the film's screenplay and visuals, and turned out to be another box-office bomb for the actor.[70]\"),\n",
       " Document(metadata={'source': 'https://en.wikipedia.org/wiki/Prabhas', 'title': 'Prabhas - Wikipedia', 'language': 'en'}, page_content='Prabhas went on to star in Prashanth Neel\\'s action drama Salaar: Part 1 – Ceasefire (2023), the same year.[71] The film opened to positive reviews and grossed ₹176 crore worldwide on its opening day.[72] It eventually grossed over ₹705 crore (US$82\\xa0million) worldwide and proved to be a comeback film for him.[73] In 2024, he starred in Nag Ashwin\\'s epic science fiction film Kalki 2898 AD.[74][75] Made on a ₹600 crore (US$70\\xa0million) production budget, it is the most expensive Indian film.[76] Kalki 2898 AD grossed over ₹191 crore worldwide on its opening day, which was the third highest first day gross for an Indian film, and making it the fifth and third consecutive ₹100 crore opener worldwide for Prabhas, a feat unheard of in Indian cinema.[77] Rahul Malhotra of Collider quotes that Kalki 2898 AD’s resounding opening cements \"Prabhas as one of the biggest Indian movie stars of his generation\".[78] The film grossed over ₹1,100 crore (US$130\\xa0million) at the box-office, making it the'),\n",
       " Document(metadata={'source': 'https://en.wikipedia.org/wiki/Prabhas', 'title': 'Prabhas - Wikipedia', 'language': 'en'}, page_content='2898 AD’s resounding opening cements \"Prabhas as one of the biggest Indian movie stars of his generation\".[78] The film grossed over ₹1,100 crore (US$130\\xa0million) at the box-office, making it the second ₹1,000 crore (US$120 million) film for Prabhas.[79][80]'),\n",
       " Document(metadata={'source': 'https://en.wikipedia.org/wiki/Prabhas', 'title': 'Prabhas - Wikipedia', 'language': 'en'}, page_content='Upcoming projects\\nPrabhas has several upcoming films in various stages of production.[81] In April 2025, he will feature in Kannappa, a mythological drama,[82] in a cameo role and The Raja Saab, a romantic horror-comedy, where he plays the lead role in an ancestral property dispute tale.[83] In 2026, Prabhas will appear in Salaar: Part 2 – Shouryaanga Parvam, the sequel to Salaar;[84] and Spirit, an anti-hero grindhouse drama directed by Sandeep Reddy Vanga.[85] In 2027, he is set to reprise his role as the main protagonist in the epic dystopian sci-fi Kalki 2898 AD - Part 2, re-portraying dual roles of Bhairava and Karna; and Fauji, a patriotic historical action-drama film directed by Hanu Raghavapudi.[86]'),\n",
       " Document(metadata={'source': 'https://en.wikipedia.org/wiki/Prabhas', 'title': 'Prabhas - Wikipedia', 'language': 'en'}, page_content='Prabhas has also entered into a three-film contract with Hombale Films, the production company responsible for notable successes such as KGF, Kantara, and Salaar. The partnership will commence with Salaar: Part 2 – Shouryaanga Parvam in 2026, with the subsequent untitled films tentatively scheduled for release in 2027 and 2028.[87]'),\n",
       " Document(metadata={'source': 'https://en.wikipedia.org/wiki/Prabhas', 'title': 'Prabhas - Wikipedia', 'language': 'en'}, page_content=\"Humanitarian and social causes\\nPrabhas has been vocal of the Swachh Bharat Mission (SBM) and featured in promotional campaigns such as Prime Minister Narendra Modi’s ‘Swachhata Hi Seva’ mission.[88] In 2020, Prabhas donated ₹4 crore (US$470,000) for the cause of combating against the COVID-19 pandemic. Of this, ₹3 crore was given to the Prime Minister's National Relief Fund, while ₹50 lakh each went to the Chief Minister Relief Funds of Andhra Pradesh and Telangana.[89] He adopted 1,650 acres of Khazipally Reserve Forest near Hyderabad and donated ₹2 crore (US$230,000) for the development of the eco-park in the name of his late father Uppalapati Surya Narayana Raju, in 2020.[90] He also donated a total of ₹8 lakh (US$9,300) to the Lions Club of Hyderabad Sadhuram Eye Hospital.[91]\"),\n",
       " Document(metadata={'source': 'https://en.wikipedia.org/wiki/Prabhas', 'title': 'Prabhas - Wikipedia', 'language': 'en'}, page_content=\"In 2021, he donated ₹1 crore (US$120,000) to the Andhra Pradesh Chief Minister’s Relief Fund (CMRF) to help all those who have been affected due to the heavy rainfall in several parts of the state.[92] In 2023, he donated a sum of ₹10 lakh (US$12,000) for the development of Sri Seetha Ramachandra Swamy Devathanam at Bhadrachalam.[93] In 2024, he donated a sum of ₹35 lakh (US$41,000) to the Telugu Film Directors Association (TFDA) to support the welfare of the cinema worker's body.[94] Prabhas donated a sum of ₹2 crore (US$230,000) to the Kerala Chief Minister's Relief Fund, to help the victims of the 2024 Wayanad landslides.[95][96]  Prabhas donated a sum of ₹2 crore (US$230,000) to aid flood relief efforts in Andhra Pradesh and Telangana, with ₹1 crore (US$120,000) each allocated to the Chief Minister Relief Funds of both states.[97][98]\"),\n",
       " Document(metadata={'source': 'https://en.wikipedia.org/wiki/Prabhas', 'title': 'Prabhas - Wikipedia', 'language': 'en'}, page_content='Media image and other work\\nPrabhas is the first Indian actor ever to be referred to as “Pan-India” star.[61][99][100] Film journalists and analysts, such as Baradwaj Rangan and Vishal Menon, have labelled him as the first of the kind in Indian cinema.[15][101] Prabhas is considered as \"a flagbearer of introducing the trend of Pan-India films in the nation\".[102] Prabhas is referred to in the media and by his fans as the \"Rebel Star\" and \"Darling\".[103][104]'),\n",
       " Document(metadata={'source': 'https://en.wikipedia.org/wiki/Prabhas', 'title': 'Prabhas - Wikipedia', 'language': 'en'}, page_content=\"Prabhas was ranked second in Times' Most Desirable Men for the year 2017,[105] and twelfth in 2018.[106] He was then added to the Forever Desirable list of Hyderabad Times in 2019.[107][108] He was the most searched actor on Google in Karnataka, for the year 2019.[109] He is the only actor from South Indian cinema to feature in the magazine Eastern Eye's 2019 listing of the 10 Sexiest Asian Men.[110][111] He was also featured in the GQ in their listing of the most influential young Indians of 2017.[112] As of August 2024, he is one of the most-followed Telugu actors on Instagram.[113][114]\\nPrabhas, generally does not endorse brands or appear in advertisements.[115] However, in 2015, he was signed on by Mahindra & Mahindra as brand ambassador for the new Mahindra TUV300 car, making his debut in the television commercial arena.[116] News 18 reported that he rejected brand endorsements worth ₹150 crore (US$18\\xa0million) in 2020.[117]\"),\n",
       " Document(metadata={'source': 'https://en.wikipedia.org/wiki/Prabhas', 'title': 'Prabhas - Wikipedia', 'language': 'en'}, page_content='Filmography and awards\\nMain article: Prabhas filmography and awards\\nReferences\\n\\n\\n^ \"Rapid Fire round with Prabhas and Shraddha Kapoor during Saaho Dubai promotions\". 10 October 2019. Archived from the original on 28 October 2021. Retrieved 7 September 2020 – via YouTube. time 3:00 to 3:20\\n\\n^ \"15 Interesting Facts About Prabhas You Should Know Before Calling Yourself His Biggest Fan!\". The Times of India. 13 May 2017. Archived from the original on 14 May 2017. Retrieved 14 May 2017. His full name is .\\n\\n^ a b c \"Happy birthday Prabhas: Six lesser known facts about the Baahubali actor\". The Indian Express. 23 October 2016. Archived from the original on 23 February 2017. Retrieved 18 March 2017. Actor Prabhas turned 37 on Sunday.\\n\\n^ Tartaglione, Nancy (23 December 2023). \"Prabhas On \\'Salaar: Part I – Ceasefire\\', Its Sequel & The Evolving Indian Cinema Industry\". Deadline. Retrieved 4 February 2024.'),\n",
       " Document(metadata={'source': 'https://en.wikipedia.org/wiki/Prabhas', 'title': 'Prabhas - Wikipedia', 'language': 'en'}, page_content='^ Tartaglione, Nancy (23 December 2023). \"Prabhas On \\'Salaar: Part I – Ceasefire\\', Its Sequel & The Evolving Indian Cinema Industry\". Deadline. Retrieved 4 February 2024.\\n\\n^ One of the highest paid actors,\\nSreeja, Addla (9 July 2023). \"Highest paid actor Prabhas\\' FEE for his next movie Salaar\". The Siasat Daily. Archived from the original on 7 August 2023. Retrieved 7 August 2023.\\n\"Allu Arjun breaks Prabhas\\'s record, becomes highest-paid star in the Telugu film industry\". The Times of India. 10 March 2023. Archived from the original on 7 August 2023. Retrieved 7 August 2023.\\n\"EXCLUSIVE: Prabhas emerges the HIGHEST PAID ACTOR of India – charges Rs. 150\\xa0crores\". Bollywood Hungama. 23 November 2021. Archived from the original on 9 March 2022. Retrieved 1 February 2022.\\n\\n^ \"Prabhas – Forbes India Magazine\". Forbes India. Archived from the original on 14 April 2021. Retrieved 5 December 2020.'),\n",
       " Document(metadata={'source': 'https://en.wikipedia.org/wiki/Prabhas', 'title': 'Prabhas - Wikipedia', 'language': 'en'}, page_content='^ \"Prabhas – Forbes India Magazine\". Forbes India. Archived from the original on 14 April 2021. Retrieved 5 December 2020.\\n\\n^ \"2017 Celebrity 100 – Forbes India Magazine\". Forbes India. Archived from the original on 2 June 2020. Retrieved 5 December 2020.\\n\\n^ \"Prabhas – Forbes India Magazine\". Forbes India. Archived from the original on 21 April 2021. Retrieved 5 December 2020.\\n\\n^ [5][6][7][8]\\n\\n^ K., Sayanthana (16 December 2023). \"\\'Natural Star\\' Nani, \\'Rebel Star\\' Prabhas, \\'Stylish Star\\' Allu Arjun: Popular tags given to stars from fans!\". The Times of India. ISSN\\xa00971-8257. Retrieved 3 July 2024.\\n\\n^ \"When \\'Young Rebel Star\\' Prabhas revealed he is not comfortable with such titles\". Hindustan Times. 23 October 2023. Retrieved 4 July 2024.\\n\\n^ \"India\\'s most expensive film?\". Hindustan Times. 15 July 2013. Archived from the original on 18 July 2013.'),\n",
       " Document(metadata={'source': 'https://en.wikipedia.org/wiki/Prabhas', 'title': 'Prabhas - Wikipedia', 'language': 'en'}, page_content='^ \"India\\'s most expensive film?\". Hindustan Times. 15 July 2013. Archived from the original on 18 July 2013.\\n\\n^ \"Bahubali wins national award for Best Film\". The Times of India. 28 March 2016. Archived from the original on 31 March 2016. Retrieved 28 April 2016.\\n\\n^ \"Top Worldwide Figures – All Formats And Hindi\". Box Office India. Archived from the original on 27 March 2019. Retrieved 5 March 2020.\\n\\n^ a b \"Is Prabhas India\\'s First Legit Pan Indian Star?\\'\". Film Companion. 20 August 2020. Retrieved 7 February 2024.\\n\\n^ \"From Baahubali to Kalki: Rebel star Prabhas\\' is the biggest Pan Indian superstar\". Moneycontrol. 24 July 2024. Retrieved 22 September 2024.\\n\\n^ K, Janani (23 December 2023). \"Prabhas decoded: How and why \\'Salaar\\' star is a pan-India superstar\". India Today. Chennai. Retrieved 22 September 2024.\\n\\n^ \"Salaar Worldwide Box Office Update\". Box Office India. 5 January 2024.'),\n",
       " Document(metadata={'source': 'https://en.wikipedia.org/wiki/Prabhas', 'title': 'Prabhas - Wikipedia', 'language': 'en'}, page_content='^ \"Salaar Worldwide Box Office Update\". Box Office India. 5 January 2024.\\n\\n^ \"Prabhas dominates box office with Kalki 2898 AD earns more than Rs 1000 crore worldwide, following Baahubali 2 triumph\". 12 July 2024.\\n\\n^ \"Baahubali 2 star Prabhas becomes first South Indian actor to get a wax statue at Madame Tussauds. See pics\". The Indian Express. 2 May 2017. Archived from the original on 15 April 2018. Retrieved 14 April 2018.\\n\\n^ \"Actor Prabhas\\'s brother sentenced to one year imprisonment in cheque bounce case\". The News Minute. 16 March 2016. Archived from the original on 9 January 2019. Retrieved 8 January 2019.\\n\\n^ Mishra, Rashmi (26 May 2018). \"Bahubali 2 Movie Star Cast Educational Qualifications: Prabhas, Anushka Shetty & others are a studious bunch of actors!\". India.com. Archived from the original on 9 January 2019. Retrieved 8 January 2019.'),\n",
       " Document(metadata={'source': 'https://en.wikipedia.org/wiki/Prabhas', 'title': 'Prabhas - Wikipedia', 'language': 'en'}, page_content='^ Pavan, P (28 April 2017). \"Bahubali 2: Police imposes Section 144 in Prabhas\\'s hometown\". Mumbai Mirror. Archived from the original on 11 January 2021. Retrieved 16 March 2021.\\n\\n^ a b \"Prabhas rejected over 6000 marriage proposals\". The Times of India. Archived from the original on 14 November 2022. Retrieved 14 November 2022.\\n\\n^ Reddy, R. Ravikanth (10 June 2017). \"Bahubali\\'s school adopts Kilimanjaro girl\". The Hindu. ISSN\\xa00971-751X. Archived from the original on 2 June 2021. Retrieved 14 March 2021.\\n\\n^ MUKHERJEE, RUMI (22 September 2023). \"Sai Pallavi, Prabhas to R Madhavan: 8 Celebs and their real educational qualification\".\\n\\n^ \"The fresh faces of Kannada cinema\". Cinema Express. 1 January 2019. Archived from the original on 19 January 2021. Retrieved 14 March 2021.\\n\\n^ \"Telugu Cinema - Review - Raghavendra - Prabhas, Anshu, Swetha Agarwal - Suresh Krishna - Posani\". www.idlebrain.com. Retrieved 28 July 2024.'),\n",
       " Document(metadata={'source': 'https://en.wikipedia.org/wiki/Prabhas', 'title': 'Prabhas - Wikipedia', 'language': 'en'}, page_content='^ \"Telugu Cinema - Review - Raghavendra - Prabhas, Anshu, Swetha Agarwal - Suresh Krishna - Posani\". www.idlebrain.com. Retrieved 28 July 2024.\\n\\n^ Web, Statesman (21 July 2023). \"Top 5 Prabhas movies: Baahubali to Varsham\". The Statesman. Retrieved 28 July 2024.\\n\\n^ \"Prabhas, Asin-starrer Chakram Completes 17 Years of Release\". News18. 26 March 2022. Retrieved 28 July 2024.\\n\\n^ Chatrapati – Telugu cinema – 100 days centers – Prabhas & Shriya Archived 13 September 2015 at the Wayback Machine. Idlebrain.com. Retrieved 28 April 2016.\\n\\n^ Chatrapati – Telugu cinema Review – Prabhas, Shriya Archived 13 October 2005 at the Wayback Machine. Idlebrain.com (29 September 2005). Retrieved 28 April 2016.\\n\\n^ \"Prabhas: Living the role\". The Times of India. 7 June 2008. ISSN\\xa00971-8257. Retrieved 28 July 2024.\\n\\n^ \"On Prabhas\\' 43rd Birthday, Billa and Varsham to Hit Theatres Again\". News18. 10 September 2022. Retrieved 28 July 2024.'),\n",
       " Document(metadata={'source': 'https://en.wikipedia.org/wiki/Prabhas', 'title': 'Prabhas - Wikipedia', 'language': 'en'}, page_content='^ \"On Prabhas\\' 43rd Birthday, Billa and Varsham to Hit Theatres Again\". News18. 10 September 2022. Retrieved 28 July 2024.\\n\\n^ \"Movie Review\\xa0: Darling\". Sify. 13 July 2013. Archived from the original on 13 July 2013. Retrieved 28 July 2024.\\n\\n^ \"Darling Review\". The Times of India. Archived from the original on 5 November 2012. Retrieved 24 April 2010.\\n\\n^ Web, Statesman (13 May 2024). \"Prabhas\\'s \\'Mr Perfect\\' sparks fan frenzy in Japan\". The Statesman. Retrieved 28 July 2024.\\n\\n^ \"\\'Mr Perfect\\' Review: Perfect With Slight Imperfection\". greatandhra. Archived from the original on 25 April 2011. Retrieved 21 April 2011.\\n\\n^ \"Prabhas\\' Mr. Perfect, 13 Year old Movie Screened in Japan, \\'shows go Housefull\\'\". 18 July 2024. Archived from the original on 18 July 2024. Retrieved 28 July 2024.\\n\\n^ \"Prabhas\\' Rebel Telugu movie review highlights\". The Times of India. Archived from the original on 16 January 2014. Retrieved 28 September 2012.'),\n",
       " Document(metadata={'source': 'https://en.wikipedia.org/wiki/Prabhas', 'title': 'Prabhas - Wikipedia', 'language': 'en'}, page_content='^ \"Prabhas\\' Rebel Telugu movie review highlights\". The Times of India. Archived from the original on 16 January 2014. Retrieved 28 September 2012.\\n\\n^ \"Rebel movie review\". New Delhi: NDTV. Archived from the original on 30 September 2012. Retrieved 28 September 2012.\\n\\n^ \"Denikaina Ready audio on Sep 23\". The Times of India. TNN. 12 September 2012. Archived from the original on 27 August 2017. Retrieved 14 June 2015.\\n\\n^ \"Prabhas\\' Top 10 Highest Grossing Films\". www.timesnownews.com. Retrieved 30 July 2024.\\n\\n^ \"Movie Review: Mirchi | NDTV Movies.com\". 11 February 2013. Archived from the original on 11 February 2013. Retrieved 30 July 2024.\\n\\n^ \"Prabhas Mirchi review - Telugu/Tamil cinema - Prabhas, Anushka, Richa Gangopadhyay\". www.idlebrain.com. Retrieved 30 July 2024.'),\n",
       " Document(metadata={'source': 'https://en.wikipedia.org/wiki/Prabhas', 'title': 'Prabhas - Wikipedia', 'language': 'en'}, page_content='^ \"Prabhas Mirchi review - Telugu/Tamil cinema - Prabhas, Anushka, Richa Gangopadhyay\". www.idlebrain.com. Retrieved 30 July 2024.\\n\\n^ \"Tuesday Trivia: Did you know Prabhas made a special appearance in THIS Bollywood film before becoming a pan-India star with Baahubali?\". Bollywood Life. 3 November 2020. Archived from the original on 25 June 2021. Retrieved 25 June 2021.\\n\\n^ McCahill, Mike (7 December 2015). \"Baahubali: The Beginning review – fantastic bang for your buck in most expensive Indian movie ever made\". The Guardian. Retrieved 3 July 2024.\\n\\n^ Oops... \\'PK\\' Is Not Actually India\\'s Top-Grossing Movie Ever Archived 14 August 2016 at the Wayback Machine. Forbes.com (14 August 2015). Retrieved 28 April 2016.\\n\\n^ \"\\'Baahubali\\' Zooms Past \\'Dhoom\\', Now India\\'s All Time #3\". Forbes. Archived from the original on 1 August 2017. Retrieved 8 September 2017.'),\n",
       " Document(metadata={'source': 'https://en.wikipedia.org/wiki/Prabhas', 'title': 'Prabhas - Wikipedia', 'language': 'en'}, page_content='^ \"\\'Baahubali\\' Zooms Past \\'Dhoom\\', Now India\\'s All Time #3\". Forbes. Archived from the original on 1 August 2017. Retrieved 8 September 2017.\\n\\n^ McCahill, Mike (12 July 2015). \"Baahubali: The Beginning review – fantastic bang for your buck in most expensive Indian movie ever made\". The Guardian. Archived from the original on 14 August 2015. Retrieved 12 December 2016.\\n\\n^ McCahill, Mike (28 April 2017). \"Baahubali 2: The Conclusion review – joyous action epic soars\". the Guardian. ISSN\\xa00261-3077. Retrieved 3 July 2024.\\n\\n^ \"Bahubali 2 Hits 1000\\xa0Crore Worldwide In Ten Days\". Box Office India. Archived from the original on 19 November 2020. Retrieved 5 December 2020.\\n\\n^ \"Baahubali 2\\'s Rs\\xa01000\\xa0crore collection: How SS Rajamouli\\'s film achieved its box office numbers\". First Post. 8 May 2017. Archived from the original on 17 May 2017. Retrieved 14 May 2017.'),\n",
       " Document(metadata={'source': 'https://en.wikipedia.org/wiki/Prabhas', 'title': 'Prabhas - Wikipedia', 'language': 'en'}, page_content='^ \"Baahubali 2\\'s Rs\\xa01000\\xa0crore collection: How SS Rajamouli\\'s film achieved its box office numbers\". First Post. 8 May 2017. Archived from the original on 17 May 2017. Retrieved 14 May 2017.\\n\\n^ Baahubali 2 Creates History, Becomes First Indian Movie Ever To Collect Rs\\xa01,000\\xa0Crore Archived 20 May 2017 at the Wayback Machine. Ndtv.com (30 April 2017). Retrieved 8 May 2017.\\n\\n^ \"Baahubali Was Worth It. But Prabhas Says No More 5-Year Films\". NDTV.com. 14 October 2017. Retrieved 20 July 2024.\\n\\n^ SNS (25 April 2017). \"Baahubali: Battle wounds on Prabhas!\". The Statesman. Retrieved 28 July 2024.\\n\\n^ Correspondent, D. C. (22 April 2017). \"Exclusive: Baahubali stunts give Prabhas scars for life\". www.deccanchronicle.com. Retrieved 28 July 2024. {{cite web}}: |last= has generic name (help)\\n\\n^ \"Baahubali 2: 10 Things You Didn\\'t Know About Prabhas\". NDTV.com. Archived from the original on 25 June 2021. Retrieved 25 June 2021.'),\n",
       " Document(metadata={'source': 'https://en.wikipedia.org/wiki/Prabhas', 'title': 'Prabhas - Wikipedia', 'language': 'en'}, page_content='^ \"Baahubali 2: 10 Things You Didn\\'t Know About Prabhas\". NDTV.com. Archived from the original on 25 June 2021. Retrieved 25 June 2021.\\n\\n^ \"SIIMA Awards | 2018 | winners\". siima.in. Archived from the original on 4 June 2020. Retrieved 2 June 2020.\\n\\n^ \"How Prabhas Became a Pan-India Star and the Highest-paid Actor in the Country\". News18. 14 January 2022. Archived from the original on 12 March 2022. Retrieved 12 March 2022.\\n\\n^ a b \"Prabhas is the only pan-India superstar at present; total budget of his 4 upcoming films are a huge Rs. 700\\xa0crores!\". Bollywood Hungama. 15 December 2020. Archived from the original on 24 October 2021. Retrieved 25 June 2021.\\n\\n^ \"Saaho (2019)\", Rotten Tomatoes, Fandango, archived from the original on 31 August 2019, retrieved 29 June 2024\\n\\n^ \"Saaho box office collection Day 1: Prabhas and Shraddha Kapoor film earns over Rs 100 cr\". Zee Business. 31 August 2019. Retrieved 1 July 2024.'),\n",
       " Document(metadata={'source': 'https://en.wikipedia.org/wiki/Prabhas', 'title': 'Prabhas - Wikipedia', 'language': 'en'}, page_content='^ \"Saaho box office collection Day 1: Prabhas and Shraddha Kapoor film earns over Rs 100 cr\". Zee Business. 31 August 2019. Retrieved 1 July 2024.\\n\\n^ Hungama, Bollywood (12 September 2019). \"Saaho Box Office Collections – The Prabhas starrer Saaho (Hindi) is a hit, to do almost double of opening weekend business :Bollywood Box Office - Bollywood Hungama\". Bollywood Hungama. Retrieved 1 July 2024.\\n\\n^ \"Saaho Is Out in the South\". Box Office India. 9 September 2019. Archived from the original on 7 October 2019. Retrieved 8 September 2019.\\n\\n^ \"Radhe Shyam Movie Review\\xa0: A love story whose destiny could have been something else…\". The Times of India. Archived from the original on 11 March 2022. Retrieved 11 March 2022.'),\n",
       " Document(metadata={'source': 'https://en.wikipedia.org/wiki/Prabhas', 'title': 'Prabhas - Wikipedia', 'language': 'en'}, page_content='^ \"Radhe Shyam Movie Review\\xa0: A love story whose destiny could have been something else…\". The Times of India. Archived from the original on 11 March 2022. Retrieved 11 March 2022.\\n\\n^ \"Prabhas and Pooja Hegde\\'s love drama opens with mixed reception from the masses over the dull narrative\". DNA India. 11 March 2022. Archived from the original on 12 March 2022. Retrieved 12 March 2022. the film has received mixed responses from critics, criticising the weak narrative and unreal screenplay.\\n\\n^ \"Radhe Shyam – Movie\". Box Office India. Archived from the original on 6 April 2018. Retrieved 6 April 2018.\\n\\n^ Kumar, Anuj (16 June 2023). \"\\'Adipurush\\' movie review: Prabhas falters in this black-and-white retelling of the \\'Ramayana\\'\". The Hindu. ISSN\\xa00971-751X. Retrieved 4 February 2024.'),\n",
       " Document(metadata={'source': 'https://en.wikipedia.org/wiki/Prabhas', 'title': 'Prabhas - Wikipedia', 'language': 'en'}, page_content='^ Kumar, Anuj (16 June 2023). \"\\'Adipurush\\' movie review: Prabhas falters in this black-and-white retelling of the \\'Ramayana\\'\". The Hindu. ISSN\\xa00971-751X. Retrieved 4 February 2024.\\n\\n^ Gopalan, Krishna (30 June 2023). \"Prabhas\\' \\'Adipurush\\' shows enough signs to be categorised a flop; OTT rights may be renegotiated\". Business Today. Archived from the original on 30 June 2023. Retrieved 12 September 2023.\\n\\n^ \"Salaar: Part 1 - Ceasefire\". Rotten Tomatoes.\\n\\n^ \"\\'Salaar\\' worldwide box office collection: Prabhas-starrer nears Rs 675 cr gross in 15 days\". Business Today. 6 January 2024. Retrieved 15 July 2024.\\n\\n^ \"Salaar In OTT: ఓటీటీలోకి సలార్.. ఇవాళ చూస్తారా?\". News18 తెలుగు (in Telugu). 19 January 2024. Retrieved 1 July 2024.\\n\\n^ K, Janani (24 July 2021). \"Prabhas gives first clap for Amitabh Bachchan as Nag Ashwin\\'s sci-fi film goes on floors\". India Today. Archived from the original on 24 July 2021. Retrieved 24 July 2021.'),\n",
       " Document(metadata={'source': 'https://en.wikipedia.org/wiki/Prabhas', 'title': 'Prabhas - Wikipedia', 'language': 'en'}, page_content='^ Jha, Subhash K. (27 November 2020). \"Amitabh Bachchan will feature in a full length role in Prabhas and Deepika Padukone starrer film\". Bollywood Hungama. Archived from the original on 8 June 2022. Retrieved 27 June 2024.\\n\\n^ Malhotra, Rahul (1 July 2024). \"\\'Kalki 2898 AD\\' Delivers the Biggest Global Box Office Debut in Indian Cinema History\". Collider. Retrieved 3 July 2024.\\n\\n^ \"Kalki 2898 AD worldwide box office collection day 1: Prabhas, Deepika Padukone\\'s film collects ₹191.5 crore\". Hindustan Times. 28 June 2024. Retrieved 30 June 2024.\\n\\n^ Malhotra, Rahul (1 July 2024). \"\\'Kalki 2898 AD\\' Delivers the Biggest Global Box Office Debut in Indian Cinema History\". Collider. Retrieved 3 July 2024.\\n\\n^ \"Kalki 2898 AD box office collection day 29: Prabhas\\' sci-fi epic demolishes Rs 1100 crore mark worldwide, can it overtake Jawan?\". The Indian Express. 26 July 2024. Retrieved 30 July 2024.'),\n",
       " Document(metadata={'source': 'https://en.wikipedia.org/wiki/Prabhas', 'title': 'Prabhas - Wikipedia', 'language': 'en'}, page_content='^ \"Kalki 2898 AD box office collection day 29: Prabhas\\' sci-fi epic demolishes Rs 1100 crore mark worldwide, can it overtake Jawan?\". The Indian Express. 26 July 2024. Retrieved 30 July 2024.\\n\\n^ \"Prabhas dominates box office with Kalki 2898 AD earns more than Rs 1000 crore worldwide, following Baahubali 2 triumph\". 12 July 2024.\\n\\n^ \"Prabhas Movie Budget: मेगाबजट फिल्मों में नजर आएंगे प्रभास, स्पिरिट-कल्कि 2-द राजा साब-सालार सीक्वल भी शामिल\". Amar Ujala (in Hindi). Retrieved 17 November 2024.\\n\\n^ \"Prabhas\\' Look From Vishnu Manchu\\'s Kannappa Gets LEAKED, Production House Announces Rs 5 Lac Reward To Find Perpetrator\". Times Now. 9 November 2024. Retrieved 17 November 2024.\\n\\n^ \"Prabhas\\' next The Raja Saab to have iconic remake song in its music album? Composer S Thaman spills beans\". PINKVILLA. 16 November 2024. Retrieved 17 November 2024.\\n\\n^ \"Prabhas starts filming \\'Salaar: Part 2 – Shouryaanga Parvam\\'\". Deccan Herald. Retrieved 17 November 2024.'),\n",
       " Document(metadata={'source': 'https://en.wikipedia.org/wiki/Prabhas', 'title': 'Prabhas - Wikipedia', 'language': 'en'}, page_content='^ \"Prabhas starts filming \\'Salaar: Part 2 – Shouryaanga Parvam\\'\". Deccan Herald. Retrieved 17 November 2024.\\n\\n^ \"Prabhas\\'s Spirit to release in 2026, producer shares update on Ranbir\\'s Animal Park\". India Today. 13 November 2024. Retrieved 17 November 2024.\\n\\n^ \"Prabhas begins new historical drama with director Hanu Raghavapudi, first look and pooja ceremony pics go viral\". The Times of India. 19 August 2024. ISSN\\xa00971-8257. Retrieved 17 November 2024.\\n\\n^ \"Prabhas gets 3 releases in 3 years as per new deal with KGF makers, Salaar 2 first\". India Today. 8 November 2024. Retrieved 17 November 2024.\\n\\n^ \"Baahubali joins PM Modi\\'s Swachhata Hi Seva campaign, says it is his habit to keep country clean\". Financialexpress. 30 September 2017. Retrieved 7 August 2024.\\n\\n^ \"Telugu actor Prabhas donates ₹4 crore for fight against coronavirus\". mint. 27 March 2020. Retrieved 23 May 2024.\\n\\n^ \"Prabhas Adopts 1,650 Acres of Khazipally Reserve Forest Near Hyderabad\". NDTV.com. Retrieved 23 May 2024.'),\n",
       " Document(metadata={'source': 'https://en.wikipedia.org/wiki/Prabhas', 'title': 'Prabhas - Wikipedia', 'language': 'en'}, page_content='^ \"Prabhas Adopts 1,650 Acres of Khazipally Reserve Forest Near Hyderabad\". NDTV.com. Retrieved 23 May 2024.\\n\\n^ Subrahmanyam, V. V. (16 November 2020). \"Film star Prabhas\\' gesture\". The Hindu. ISSN\\xa00971-751X. Retrieved 3 June 2024.\\n\\n^ \"Prabhas Donates Rs 1 Crore To Andhra Pradesh CM Relief Fund For Flood Victims\". News18. 7 December 2021. Retrieved 3 June 2024.\\n\\n^ \"Prabhas Donates Rs 10 Lakh For Development Of Sri Seetha Ramachandra Swamy Devathanam\". News18. 15 May 2023. Retrieved 30 July 2024.\\n\\n^ \"Prabhas donates Rs 35 lakh to Telugu Film Directors Association\". India Today. 23 April 2024. Retrieved 28 July 2024.\\n\\n^ \"Prabhas donates Rs 2 crore to Wayanad landslide relief fund\". India Today. 7 August 2024. Retrieved 7 August 2024.\\n\\n^ \"Rebel Star Prabhas Donates Rs 2 Crores For Kerala Landslide Relief Work\". Times Now. 7 August 2024. Retrieved 7 August 2024.'),\n",
       " Document(metadata={'source': 'https://en.wikipedia.org/wiki/Prabhas', 'title': 'Prabhas - Wikipedia', 'language': 'en'}, page_content='^ \"Rebel Star Prabhas Donates Rs 2 Crores For Kerala Landslide Relief Work\". Times Now. 7 August 2024. Retrieved 7 August 2024.\\n\\n^ \"Allu Arjun, Prabhas, Mahesh Babu Donate For Flood-Hit Regions Of Andhra Pradesh And Telangana\". www.ndtv.com. Retrieved 23 October 2024.\\n\\n^ \"Prabhas donates Rs 2 crore, Allu Arjun sends Rs 1 crore to CM Relief Funds for flood-affected people in AP and Telangana\". PINKVILLA. 4 September 2024. Retrieved 23 October 2024.\\n\\n^ \"Prabhas decoded: How and why \\'Salaar\\' star is a pan-India superstar\". India Today. 23 December 2023. Retrieved 7 February 2024.\\n\\n^ \"Salaar Director Prashanth Praises Prabhas As Pan-India Star With Heart Of Gold\". Zee News. Retrieved 7 February 2024.\\n\\n^ Aditya (14 June 2023). \"Prabhas is the real Pan-Indian star and Global star from Tollywood\". TrackTollywood. Retrieved 7 February 2024.'),\n",
       " Document(metadata={'source': 'https://en.wikipedia.org/wiki/Prabhas', 'title': 'Prabhas - Wikipedia', 'language': 'en'}, page_content='^ Aditya (14 June 2023). \"Prabhas is the real Pan-Indian star and Global star from Tollywood\". TrackTollywood. Retrieved 7 February 2024.\\n\\n^ \"Prabhas – a flagbearer of introducing the trend of Pan India films in the nation\". The Times of India. 11 November 2022. ISSN\\xa00971-8257. Retrieved 7 February 2024.\\n\\n^ \"Prabhas on why he is called \\'Darling\\'!\". The Times of India. 20 October 2021. Archived from the original on 23 January 2023. Retrieved 19 July 2023.\\n\\n^ \"When \\'Young Rebel Star\\' Prabhas revealed he is not comfortable with such titles\". Hindustan Times. 23 October 2023. Archived from the original on 2 January 2024. Retrieved 2 January 2024.\\n\\n^ \"Prabhas – The second most desirable in India\". Sify. Archived from the original on 4 May 2018. Retrieved 25 June 2021.\\n\\n^ \"\\'The Times 50 Most Desirable Men Of 2018\\' List Is Out & Guess Who The Top 5 Most Wanted Men Are\". mensxp.com. 17 May 2019. Archived from the original on 25 June 2021. Retrieved 25 June 2021.'),\n",
       " Document(metadata={'source': 'https://en.wikipedia.org/wiki/Prabhas', 'title': 'Prabhas - Wikipedia', 'language': 'en'}, page_content='^ \"\\'The Times 50 Most Desirable Men Of 2018\\' List Is Out & Guess Who The Top 5 Most Wanted Men Are\". mensxp.com. 17 May 2019. Archived from the original on 25 June 2021. Retrieved 25 June 2021.\\n\\n^ @HydTimes (2 June 2021). \"Forever Desirable\\xa0: The latest to join the club is our very own #Baahubali, #Prabhas, who enjoys a huge fan following! #HydTimesMostDesirableMen2020 #ForeverDesirable\" (Tweet) – via Twitter.\\n\\n^ \"Prabhas joins Hyd Times Forever Desirable list\". 123telugu.com. 2 June 2021. Archived from the original on 25 June 2021. Retrieved 25 June 2021.\\n\\n^ \"Ajith, Prabhas are Karnataka\\'s most-searched actors\". The Times of India. Archived from the original on 27 June 2021. Retrieved 25 June 2021.\\n\\n^ \"Prabhas makes it to the Top 10 list of Sexiest Asian Men of 2019; only actor from South\". The Times of India. Archived from the original on 26 June 2021. Retrieved 21 June 2021.'),\n",
       " Document(metadata={'source': 'https://en.wikipedia.org/wiki/Prabhas', 'title': 'Prabhas - Wikipedia', 'language': 'en'}, page_content='^ \"Prabhas makes it to the Top 10 list of Sexiest Asian Men of 2019; only actor from South\". The Times of India. Archived from the original on 26 June 2021. Retrieved 21 June 2021.\\n\\n^ \"Meet the SEXIEST Asian Male of 2019\". Rediff. Archived from the original on 24 June 2021. Retrieved 21 June 2021.\\n\\n^ \"GQ\\'s Most Influential Young Indians 2017: Artistes\". GQ India. 7 July 2017. Archived from the original on 25 June 2021. Retrieved 25 June 2021.\\n\\n^ Sharma, Bhavana (10 August 2024). \"Top 10 Tollywood actors who are ruling social media\". www.deccanchronicle.com. Archived from the original on 5 October 2024. Retrieved 23 December 2024.\\n\\n^ \"Top 10 Tollywood actors with most number of Instagram followers; Rashmika Mandanna, Allu Arjun to Samantha Ruth Prabhu, check full list\". PINKVILLA. 6 August 2024. Archived from the original on 24 August 2024. Retrieved 23 December 2024.'),\n",
       " Document(metadata={'source': 'https://en.wikipedia.org/wiki/Prabhas', 'title': 'Prabhas - Wikipedia', 'language': 'en'}, page_content='^ \"Prabhas refuses to take up brand endorsements worth Rs\\xa0150\\xa0crores, why?\". The Siasat Daily. 23 June 2021. Archived from the original on 25 June 2021. Retrieved 25 June 2021.\\n\\n^ \"Mahindra TUV300: Baahubali actor Prabhas makes his TVC debut\". 3 October 2015. Archived from the original on 30 March 2019. Retrieved 7 December 2018.\\n\\n^ \"Prabhas Rejected Brand Endorsements Worth Rs\\xa0150\\xa0crore in Past Year, Here\\'s Why\". news18.com. 23 June 2021. Archived from the original on 25 June 2021. Retrieved 25 June 2021.\\n\\n\\nExternal links\\n\\n\\n\\nWikimedia Commons has media related to Prabhas.'),\n",
       " Document(metadata={'source': 'https://en.wikipedia.org/wiki/Prabhas', 'title': 'Prabhas - Wikipedia', 'language': 'en'}, page_content='Prabhas at IMDb\\nvteNandi Award for Best ActorNandi Awards1977–1980\\nKrishnam Raju (1977)\\nHema Sundar (1978)\\nGokina Rama Rao (1979)\\nM. Prabhakar Reddy (1980)\\n1981–1990\\nM. Prabhakar Reddy (1981)\\nAkkineni Nageswara Rao (1982)\\nKamal Haasan (1983)\\nKrishnam Raju (1984)\\nMurali Mohan (1985)\\nKamal Haasan (1986)\\nChiranjeevi (1987)\\nVenkatesh (1988)\\nKamal Haasan (1989)\\nRajendra Prasad (1990)\\n1991–2000\\nDasari Narayana Rao (1991)\\nChiranjeevi (1992)\\nJagapathi Babu and Suman (1993)\\nAkkineni Nageswara Rao (1994)\\nVenkatesh and Naresh (1995)\\nJagapathi Babu (1996)\\nNagarjuna (1997)\\nVenkatesh (1998)\\nVenkatesh (1999)\\nJagapathi Babu (2000)\\n2001–2010\\nNandamuri Balakrishna (2001)\\nChiranjeevi and Nagarjuna (2002)\\nMahesh Babu (2003)\\nRajendra Prasad (2004)\\nMahesh Babu (2005)\\nNagarjuna (2006)\\nVenkatesh (2007)\\nRavi Teja (2008)\\nDasari Narayana Rao (2009)\\nNandamuri Balakrishna (2010)\\n2011–present\\nMahesh Babu (2011)\\nNani (2012)\\nPrabhas (2013)\\nNandamuri Balakrishna (2014)\\nMahesh Babu (2015)\\nN. T. Rama Rao Jr (2016)'),\n",
       " Document(metadata={'source': 'https://en.wikipedia.org/wiki/Prabhas', 'title': 'Prabhas - Wikipedia', 'language': 'en'}, page_content='Dasari Narayana Rao (2009)\\nNandamuri Balakrishna (2010)\\n2011–present\\nMahesh Babu (2011)\\nNani (2012)\\nPrabhas (2013)\\nNandamuri Balakrishna (2014)\\nMahesh Babu (2015)\\nN. T. Rama Rao Jr (2016)\\n Category\\nvteSIIMA Award for Best Actor – Telugu2011–2020\\nMahesh Babu (2011)\\nPawan Kalyan (2012)\\nMahesh Babu (2013)\\nNandamuri Balakrishna (2014)\\nMahesh Babu (2015)\\nN. T. Rama Rao Jr (2016)\\nPrabhas (2017)\\nRam Charan (2018)\\nMahesh Babu (2019)\\nAllu Arjun (2020)\\n2021–present\\nAllu Arjun (2021)\\nN. T. Rama Rao Jr (2022)\\nNani (2023)\\nvteSantosham Best Actor Award2003–2010\\nChiranjeevi (2003)\\nChiranjeevi (2004)\\nVenkatesh (2005)\\nMahesh Babu (2006)\\nVenkatesh (2007)\\nNandamuri Balakrishna (2008)\\nRam Charan (2009)\\nNandamuri Balakrishna (2010)\\n2011–2020\\nNandamuri Balakrishna (2011)\\nMahesh Babu (2012)\\nPawan Kalyan (2013)\\nRam Charan (2014)\\nPrabhas (2015)\\nNaga Chaitanya (2016)\\nChiranjeevi (2017)\\nKartikeya Gummakonda (2018)\\n– (2019)\\n– (2020)\\n2021–present\\nAllu Arjun (2021)\\nAdivi Sesh (2022)\\nAnand Deverakonda (2023)'),\n",
       " Document(metadata={'source': 'https://en.wikipedia.org/wiki/Prabhas', 'title': 'Prabhas - Wikipedia', 'language': 'en'}, page_content='Ram Charan (2014)\\nPrabhas (2015)\\nNaga Chaitanya (2016)\\nChiranjeevi (2017)\\nKartikeya Gummakonda (2018)\\n– (2019)\\n– (2020)\\n2021–present\\nAllu Arjun (2021)\\nAdivi Sesh (2022)\\nAnand Deverakonda (2023)\\nAuthority control databases InternationalISNIVIAFWorldCatNationalGermanyUnited StatesFranceBnF dataArtistsMusicBrainz'),\n",
       " Document(metadata={'source': 'https://en.wikipedia.org/wiki/Prabhas', 'title': 'Prabhas - Wikipedia', 'language': 'en'}, page_content='Retrieved from \"https://en.wikipedia.org/w/index.php?title=Prabhas&oldid=1283706081\"'),\n",
       " Document(metadata={'source': 'https://en.wikipedia.org/wiki/Prabhas', 'title': 'Prabhas - Wikipedia', 'language': 'en'}, page_content='Categories: 1979 births21st-century Indian male actorsIndian male film actorsLiving peopleMale actors from Andhra PradeshPeople from West Godavari districtTelugu male actorsNandi Award winnersMale actors in Telugu cinemaMale actors in Hindi cinemaMale actors in Tamil cinemaPeople from Andhra PradeshIndian actorsFilm people from Andhra PradeshSouth Indian International Movie Awards winnersSantosham Film Awards winnersKrishnam RajuHidden categories: Webarchive template wayback linksCS1 errors: generic nameCS1 Telugu-language sources (te)CS1 Hindi-language sources (hi)Articles with short descriptionShort description is different from WikidataWikipedia indefinitely move-protected pagesWikipedia indefinitely semi-protected biographies of living peopleUse dmy dates from November 2024Use Indian English from November 2024All Wikipedia articles written in Indian EnglishArticles with hCardsPages with Telugu IPACommons category link from Wikidata'),\n",
       " Document(metadata={'source': 'https://en.wikipedia.org/wiki/Prabhas', 'title': 'Prabhas - Wikipedia', 'language': 'en'}, page_content='This page was last edited on 3 April 2025, at 04:45\\xa0(UTC).\\nText is available under the Creative Commons Attribution-ShareAlike 4.0 License;\\nadditional terms may apply. By using this site, you agree to the Terms of Use and Privacy Policy. Wikipedia® is a registered trademark of the Wikimedia Foundation, Inc., a non-profit organization.\\n\\n\\nPrivacy policy\\nAbout Wikipedia\\nDisclaimers\\nContact Wikipedia\\nCode of Conduct\\nDevelopers\\nStatistics\\nCookie statement\\nMobile view\\n\\n\\n\\n\\n\\n\\n\\n\\n\\n\\n\\n\\n\\n\\nSearch\\n\\n\\n\\n\\n\\n\\n\\n\\n\\n\\n\\n\\n\\nSearch\\n\\n\\n\\n\\n\\n\\n\\n\\n\\nToggle the table of contents\\n\\n\\n\\n\\n\\n\\n\\nPrabhas\\n\\n\\n\\n\\n\\n\\n\\n\\n\\n\\n\\n\\n\\n\\n\\n\\n\\n\\n\\n\\n\\n\\n\\n\\n\\n\\n\\n\\n49 languages\\n\\n\\nAdd topic')]"
      ]
     },
     "execution_count": 128,
     "metadata": {},
     "output_type": "execute_result"
    }
   ],
   "source": [
    "from langchain_text_splitters import RecursiveCharacterTextSplitter\n",
    "\n",
    "splitter=RecursiveCharacterTextSplitter(chunk_size=1000,chunk_overlap=200)\n",
    "\n",
    "splitted=splitter.split_documents(loaded)\n",
    "\n",
    "splitted"
   ]
  },
  {
   "cell_type": "code",
   "execution_count": 129,
   "metadata": {},
   "outputs": [
    {
     "data": {
      "text/plain": [
       "58"
      ]
     },
     "execution_count": 129,
     "metadata": {},
     "output_type": "execute_result"
    }
   ],
   "source": [
    "len(splitted)"
   ]
  },
  {
   "cell_type": "markdown",
   "metadata": {},
   "source": [
    "vector embeddings"
   ]
  },
  {
   "cell_type": "code",
   "execution_count": 130,
   "metadata": {},
   "outputs": [],
   "source": [
    "os.environ['HF_TOKEN']=os.getenv(\"hf_api_key\")"
   ]
  },
  {
   "cell_type": "code",
   "execution_count": 131,
   "metadata": {},
   "outputs": [
    {
     "data": {
      "text/plain": [
       "HuggingFaceEmbeddings(model_name='sentence-transformers/all-MiniLM-L6-v2', cache_folder=None, model_kwargs={}, encode_kwargs={}, multi_process=False, show_progress=False)"
      ]
     },
     "execution_count": 131,
     "metadata": {},
     "output_type": "execute_result"
    }
   ],
   "source": [
    "from langchain_huggingface import HuggingFaceEmbeddings\n",
    "\n",
    "embedding=HuggingFaceEmbeddings(model_name=\"sentence-transformers/all-MiniLM-L6-v2\")\n",
    "\n",
    "embedding"
   ]
  },
  {
   "cell_type": "markdown",
   "metadata": {},
   "source": [
    "vectordb"
   ]
  },
  {
   "cell_type": "code",
   "execution_count": 132,
   "metadata": {},
   "outputs": [
    {
     "data": {
      "text/plain": [
       "<langchain_community.vectorstores.faiss.FAISS at 0x218e5dc5220>"
      ]
     },
     "execution_count": 132,
     "metadata": {},
     "output_type": "execute_result"
    }
   ],
   "source": [
    "from langchain_community.vectorstores import FAISS\n",
    "\n",
    "db=FAISS.from_documents(documents=splitted,embedding=embedding)\n",
    "\n",
    "db"
   ]
  },
  {
   "cell_type": "markdown",
   "metadata": {},
   "source": [
    "retriever"
   ]
  },
  {
   "cell_type": "code",
   "execution_count": 133,
   "metadata": {},
   "outputs": [
    {
     "data": {
      "text/plain": [
       "VectorStoreRetriever(tags=['FAISS', 'HuggingFaceEmbeddings'], vectorstore=<langchain_community.vectorstores.faiss.FAISS object at 0x00000218E5DC5220>, search_kwargs={'k': 1})"
      ]
     },
     "execution_count": 133,
     "metadata": {},
     "output_type": "execute_result"
    }
   ],
   "source": [
    "retreiver=db.as_retriever(search_kwargs={'k': 1})\n",
    "\n",
    "retreiver"
   ]
  },
  {
   "cell_type": "markdown",
   "metadata": {},
   "source": [
    "creating history aware retrieval chain"
   ]
  },
  {
   "cell_type": "code",
   "execution_count": 134,
   "metadata": {},
   "outputs": [],
   "source": [
    "from langchain_community.chat_message_histories import ChatMessageHistory\n",
    "\n",
    "sessions={}\n",
    "\n",
    "def get_session_info(session_id):\n",
    "\n",
    "    if session_id not in sessions:\n",
    "\n",
    "        sessions[session_id]=ChatMessageHistory()\n",
    "\n",
    "    return sessions[session_id]\n",
    "\n"
   ]
  },
  {
   "cell_type": "code",
   "execution_count": 135,
   "metadata": {},
   "outputs": [],
   "source": [
    "configuration={\"configurable\":{\"session_id\":\"1\"}}"
   ]
  },
  {
   "cell_type": "markdown",
   "metadata": {},
   "source": [
    "Importing runnables to run using sessioids"
   ]
  },
  {
   "cell_type": "code",
   "execution_count": 136,
   "metadata": {},
   "outputs": [],
   "source": [
    "from langchain_core.messages import trim_messages\n",
    "\n",
    "trim=trim_messages(\n",
    "    max_tokens=100,\n",
    "    strategy=\"last\",\n",
    "    token_counter=llm,\n",
    "    start_on=\"human\",\n",
    "    include_system=True,\n",
    "    allow_partial=False\n",
    ")\n"
   ]
  },
  {
   "cell_type": "code",
   "execution_count": 137,
   "metadata": {},
   "outputs": [
    {
     "data": {
      "text/plain": [
       "RunnableAssign(mapper={\n",
       "  memory: RunnableLambda(itemgetter('memory'))\n",
       "          | RunnableLambda(...)\n",
       "})"
      ]
     },
     "execution_count": 137,
     "metadata": {},
     "output_type": "execute_result"
    }
   ],
   "source": [
    "from langchain_core.runnables import RunnablePassthrough\n",
    "from operator import itemgetter\n",
    "\n",
    "pas=RunnablePassthrough.assign(memory=itemgetter(\"memory\")|trim)\n",
    "\n",
    "pas\n"
   ]
  },
  {
   "cell_type": "code",
   "execution_count": 138,
   "metadata": {},
   "outputs": [],
   "source": [
    "from langchain_core.prompts import MessagesPlaceholder"
   ]
  },
  {
   "cell_type": "code",
   "execution_count": 139,
   "metadata": {},
   "outputs": [
    {
     "data": {
      "text/plain": [
       "ChatPromptTemplate(input_variables=['input', 'memory'], input_types={'memory': list[typing.Annotated[typing.Union[typing.Annotated[langchain_core.messages.ai.AIMessage, Tag(tag='ai')], typing.Annotated[langchain_core.messages.human.HumanMessage, Tag(tag='human')], typing.Annotated[langchain_core.messages.chat.ChatMessage, Tag(tag='chat')], typing.Annotated[langchain_core.messages.system.SystemMessage, Tag(tag='system')], typing.Annotated[langchain_core.messages.function.FunctionMessage, Tag(tag='function')], typing.Annotated[langchain_core.messages.tool.ToolMessage, Tag(tag='tool')], typing.Annotated[langchain_core.messages.ai.AIMessageChunk, Tag(tag='AIMessageChunk')], typing.Annotated[langchain_core.messages.human.HumanMessageChunk, Tag(tag='HumanMessageChunk')], typing.Annotated[langchain_core.messages.chat.ChatMessageChunk, Tag(tag='ChatMessageChunk')], typing.Annotated[langchain_core.messages.system.SystemMessageChunk, Tag(tag='SystemMessageChunk')], typing.Annotated[langchain_core.messages.function.FunctionMessageChunk, Tag(tag='FunctionMessageChunk')], typing.Annotated[langchain_core.messages.tool.ToolMessageChunk, Tag(tag='ToolMessageChunk')]], FieldInfo(annotation=NoneType, required=True, discriminator=Discriminator(discriminator=<function _get_type at 0x00000218EFF299E0>, custom_error_type=None, custom_error_message=None, custom_error_context=None))]]}, partial_variables={}, messages=[SystemMessagePromptTemplate(prompt=PromptTemplate(input_variables=[], input_types={}, partial_variables={}, template='You are an Question- Answering chatbot.For answering the question if it needs previous memory then using the memory understand and generate a relavent question that matches with the given input question'), additional_kwargs={}), MessagesPlaceholder(variable_name='memory'), HumanMessagePromptTemplate(prompt=PromptTemplate(input_variables=['input'], input_types={}, partial_variables={}, template='{input}'), additional_kwargs={})])"
      ]
     },
     "execution_count": 139,
     "metadata": {},
     "output_type": "execute_result"
    }
   ],
   "source": [
    "from langchain.chains import create_history_aware_retriever,create_retrieval_chain\n",
    "from langchain.chains.combine_documents import create_stuff_documents_chain\n",
    "from langchain_core.prompts import ChatPromptTemplate\n",
    "\n",
    "template=ChatPromptTemplate(\n",
    "    [\n",
    "        (\"system\",\"You are an Question- Answering chatbot.For answering the question if it needs previous memory then using the memory understand and generate a relavent question that matches with the given input question\"),\n",
    "        MessagesPlaceholder(variable_name=\"memory\"),\n",
    "        (\"user\",\"{input}\")\n",
    "    ]\n",
    ")\n",
    "\n",
    "template"
   ]
  },
  {
   "cell_type": "code",
   "execution_count": 140,
   "metadata": {},
   "outputs": [
    {
     "data": {
      "text/plain": [
       "RunnableBinding(bound=RunnableBranch(branches=[(RunnableLambda(lambda x: not x.get('chat_history', False)), RunnableLambda(lambda x: x['input'])\n",
       "| VectorStoreRetriever(tags=['FAISS', 'HuggingFaceEmbeddings'], vectorstore=<langchain_community.vectorstores.faiss.FAISS object at 0x00000218E5DC5220>, search_kwargs={'k': 1}))], default=ChatPromptTemplate(input_variables=['input', 'memory'], input_types={'memory': list[typing.Annotated[typing.Union[typing.Annotated[langchain_core.messages.ai.AIMessage, Tag(tag='ai')], typing.Annotated[langchain_core.messages.human.HumanMessage, Tag(tag='human')], typing.Annotated[langchain_core.messages.chat.ChatMessage, Tag(tag='chat')], typing.Annotated[langchain_core.messages.system.SystemMessage, Tag(tag='system')], typing.Annotated[langchain_core.messages.function.FunctionMessage, Tag(tag='function')], typing.Annotated[langchain_core.messages.tool.ToolMessage, Tag(tag='tool')], typing.Annotated[langchain_core.messages.ai.AIMessageChunk, Tag(tag='AIMessageChunk')], typing.Annotated[langchain_core.messages.human.HumanMessageChunk, Tag(tag='HumanMessageChunk')], typing.Annotated[langchain_core.messages.chat.ChatMessageChunk, Tag(tag='ChatMessageChunk')], typing.Annotated[langchain_core.messages.system.SystemMessageChunk, Tag(tag='SystemMessageChunk')], typing.Annotated[langchain_core.messages.function.FunctionMessageChunk, Tag(tag='FunctionMessageChunk')], typing.Annotated[langchain_core.messages.tool.ToolMessageChunk, Tag(tag='ToolMessageChunk')]], FieldInfo(annotation=NoneType, required=True, discriminator=Discriminator(discriminator=<function _get_type at 0x00000218EFF299E0>, custom_error_type=None, custom_error_message=None, custom_error_context=None))]]}, partial_variables={}, messages=[SystemMessagePromptTemplate(prompt=PromptTemplate(input_variables=[], input_types={}, partial_variables={}, template='You are an Question- Answering chatbot.For answering the question if it needs previous memory then using the memory understand and generate a relavent question that matches with the given input question'), additional_kwargs={}), MessagesPlaceholder(variable_name='memory'), HumanMessagePromptTemplate(prompt=PromptTemplate(input_variables=['input'], input_types={}, partial_variables={}, template='{input}'), additional_kwargs={})])\n",
       "| ChatGoogleGenerativeAI(model='models/gemini-2.0-flash-thinking-exp-01-21', google_api_key=SecretStr('**********'), client=<google.ai.generativelanguage_v1beta.services.generative_service.client.GenerativeServiceClient object at 0x00000218E585D310>, default_metadata=())\n",
       "| StrOutputParser()\n",
       "| VectorStoreRetriever(tags=['FAISS', 'HuggingFaceEmbeddings'], vectorstore=<langchain_community.vectorstores.faiss.FAISS object at 0x00000218E5DC5220>, search_kwargs={'k': 1})), kwargs={}, config={'run_name': 'chat_retriever_chain'}, config_factories=[])"
      ]
     },
     "execution_count": 140,
     "metadata": {},
     "output_type": "execute_result"
    }
   ],
   "source": [
    "retreieval_chain_with_history=create_history_aware_retriever(llm,retreiver,template)\n",
    "\n",
    "retreieval_chain_with_history"
   ]
  },
  {
   "cell_type": "code",
   "execution_count": 141,
   "metadata": {},
   "outputs": [
    {
     "data": {
      "text/plain": [
       "RunnableAssign(mapper={\n",
       "  memory: RunnableLambda(itemgetter('memory'))\n",
       "          | RunnableLambda(...)\n",
       "})\n",
       "| RunnableBinding(bound=RunnableBranch(branches=[(RunnableLambda(lambda x: not x.get('chat_history', False)), RunnableLambda(lambda x: x['input'])\n",
       "  | VectorStoreRetriever(tags=['FAISS', 'HuggingFaceEmbeddings'], vectorstore=<langchain_community.vectorstores.faiss.FAISS object at 0x00000218E5DC5220>, search_kwargs={'k': 1}))], default=ChatPromptTemplate(input_variables=['input', 'memory'], input_types={'memory': list[typing.Annotated[typing.Union[typing.Annotated[langchain_core.messages.ai.AIMessage, Tag(tag='ai')], typing.Annotated[langchain_core.messages.human.HumanMessage, Tag(tag='human')], typing.Annotated[langchain_core.messages.chat.ChatMessage, Tag(tag='chat')], typing.Annotated[langchain_core.messages.system.SystemMessage, Tag(tag='system')], typing.Annotated[langchain_core.messages.function.FunctionMessage, Tag(tag='function')], typing.Annotated[langchain_core.messages.tool.ToolMessage, Tag(tag='tool')], typing.Annotated[langchain_core.messages.ai.AIMessageChunk, Tag(tag='AIMessageChunk')], typing.Annotated[langchain_core.messages.human.HumanMessageChunk, Tag(tag='HumanMessageChunk')], typing.Annotated[langchain_core.messages.chat.ChatMessageChunk, Tag(tag='ChatMessageChunk')], typing.Annotated[langchain_core.messages.system.SystemMessageChunk, Tag(tag='SystemMessageChunk')], typing.Annotated[langchain_core.messages.function.FunctionMessageChunk, Tag(tag='FunctionMessageChunk')], typing.Annotated[langchain_core.messages.tool.ToolMessageChunk, Tag(tag='ToolMessageChunk')]], FieldInfo(annotation=NoneType, required=True, discriminator=Discriminator(discriminator=<function _get_type at 0x00000218EFF299E0>, custom_error_type=None, custom_error_message=None, custom_error_context=None))]]}, partial_variables={}, messages=[SystemMessagePromptTemplate(prompt=PromptTemplate(input_variables=[], input_types={}, partial_variables={}, template='You are an Question- Answering chatbot.For answering the question if it needs previous memory then using the memory understand and generate a relavent question that matches with the given input question'), additional_kwargs={}), MessagesPlaceholder(variable_name='memory'), HumanMessagePromptTemplate(prompt=PromptTemplate(input_variables=['input'], input_types={}, partial_variables={}, template='{input}'), additional_kwargs={})])\n",
       "  | ChatGoogleGenerativeAI(model='models/gemini-2.0-flash-thinking-exp-01-21', google_api_key=SecretStr('**********'), client=<google.ai.generativelanguage_v1beta.services.generative_service.client.GenerativeServiceClient object at 0x00000218E585D310>, default_metadata=())\n",
       "  | StrOutputParser()\n",
       "  | VectorStoreRetriever(tags=['FAISS', 'HuggingFaceEmbeddings'], vectorstore=<langchain_community.vectorstores.faiss.FAISS object at 0x00000218E5DC5220>, search_kwargs={'k': 1})), kwargs={}, config={'run_name': 'chat_retriever_chain'}, config_factories=[])"
      ]
     },
     "execution_count": 141,
     "metadata": {},
     "output_type": "execute_result"
    }
   ],
   "source": [
    "retreival_chain=pas|retreieval_chain_with_history\n",
    "\n",
    "retreival_chain"
   ]
  },
  {
   "cell_type": "code",
   "execution_count": 142,
   "metadata": {},
   "outputs": [
    {
     "data": {
      "text/plain": [
       "ChatPromptTemplate(input_variables=['context', 'input', 'memory'], input_types={'memory': list[typing.Annotated[typing.Union[typing.Annotated[langchain_core.messages.ai.AIMessage, Tag(tag='ai')], typing.Annotated[langchain_core.messages.human.HumanMessage, Tag(tag='human')], typing.Annotated[langchain_core.messages.chat.ChatMessage, Tag(tag='chat')], typing.Annotated[langchain_core.messages.system.SystemMessage, Tag(tag='system')], typing.Annotated[langchain_core.messages.function.FunctionMessage, Tag(tag='function')], typing.Annotated[langchain_core.messages.tool.ToolMessage, Tag(tag='tool')], typing.Annotated[langchain_core.messages.ai.AIMessageChunk, Tag(tag='AIMessageChunk')], typing.Annotated[langchain_core.messages.human.HumanMessageChunk, Tag(tag='HumanMessageChunk')], typing.Annotated[langchain_core.messages.chat.ChatMessageChunk, Tag(tag='ChatMessageChunk')], typing.Annotated[langchain_core.messages.system.SystemMessageChunk, Tag(tag='SystemMessageChunk')], typing.Annotated[langchain_core.messages.function.FunctionMessageChunk, Tag(tag='FunctionMessageChunk')], typing.Annotated[langchain_core.messages.tool.ToolMessageChunk, Tag(tag='ToolMessageChunk')]], FieldInfo(annotation=NoneType, required=True, discriminator=Discriminator(discriminator=<function _get_type at 0x00000218EFF299E0>, custom_error_type=None, custom_error_message=None, custom_error_context=None))]]}, partial_variables={}, messages=[SystemMessagePromptTemplate(prompt=PromptTemplate(input_variables=['context'], input_types={}, partial_variables={}, template='Include {context} while genrating the answer keep the answer in simple words donot make much complex answer'), additional_kwargs={}), MessagesPlaceholder(variable_name='memory'), HumanMessagePromptTemplate(prompt=PromptTemplate(input_variables=['input'], input_types={}, partial_variables={}, template='{input}'), additional_kwargs={})])"
      ]
     },
     "execution_count": 142,
     "metadata": {},
     "output_type": "execute_result"
    }
   ],
   "source": [
    "template1=ChatPromptTemplate(\n",
    "    [\n",
    "        (\"system\",\"Include {context} while genrating the answer keep the answer in simple words donot make much complex answer\"),\n",
    "        MessagesPlaceholder(variable_name=\"memory\"),\n",
    "        (\"user\",\"{input}\")\n",
    "    ]\n",
    ")\n",
    "\n",
    "template1"
   ]
  },
  {
   "cell_type": "code",
   "execution_count": 143,
   "metadata": {},
   "outputs": [
    {
     "data": {
      "text/plain": [
       "RunnableBinding(bound=RunnableBinding(bound=RunnableAssign(mapper={\n",
       "  context: RunnableLambda(format_docs)\n",
       "}), kwargs={}, config={'run_name': 'format_inputs'}, config_factories=[])\n",
       "| ChatPromptTemplate(input_variables=['context', 'input', 'memory'], input_types={'memory': list[typing.Annotated[typing.Union[typing.Annotated[langchain_core.messages.ai.AIMessage, Tag(tag='ai')], typing.Annotated[langchain_core.messages.human.HumanMessage, Tag(tag='human')], typing.Annotated[langchain_core.messages.chat.ChatMessage, Tag(tag='chat')], typing.Annotated[langchain_core.messages.system.SystemMessage, Tag(tag='system')], typing.Annotated[langchain_core.messages.function.FunctionMessage, Tag(tag='function')], typing.Annotated[langchain_core.messages.tool.ToolMessage, Tag(tag='tool')], typing.Annotated[langchain_core.messages.ai.AIMessageChunk, Tag(tag='AIMessageChunk')], typing.Annotated[langchain_core.messages.human.HumanMessageChunk, Tag(tag='HumanMessageChunk')], typing.Annotated[langchain_core.messages.chat.ChatMessageChunk, Tag(tag='ChatMessageChunk')], typing.Annotated[langchain_core.messages.system.SystemMessageChunk, Tag(tag='SystemMessageChunk')], typing.Annotated[langchain_core.messages.function.FunctionMessageChunk, Tag(tag='FunctionMessageChunk')], typing.Annotated[langchain_core.messages.tool.ToolMessageChunk, Tag(tag='ToolMessageChunk')]], FieldInfo(annotation=NoneType, required=True, discriminator=Discriminator(discriminator=<function _get_type at 0x00000218EFF299E0>, custom_error_type=None, custom_error_message=None, custom_error_context=None))]]}, partial_variables={}, messages=[SystemMessagePromptTemplate(prompt=PromptTemplate(input_variables=['context'], input_types={}, partial_variables={}, template='Include {context} while genrating the answer keep the answer in simple words donot make much complex answer'), additional_kwargs={}), MessagesPlaceholder(variable_name='memory'), HumanMessagePromptTemplate(prompt=PromptTemplate(input_variables=['input'], input_types={}, partial_variables={}, template='{input}'), additional_kwargs={})])\n",
       "| ChatGoogleGenerativeAI(model='models/gemini-2.0-flash-thinking-exp-01-21', google_api_key=SecretStr('**********'), client=<google.ai.generativelanguage_v1beta.services.generative_service.client.GenerativeServiceClient object at 0x00000218E585D310>, default_metadata=())\n",
       "| StrOutputParser(), kwargs={}, config={'run_name': 'stuff_documents_chain'}, config_factories=[])"
      ]
     },
     "execution_count": 143,
     "metadata": {},
     "output_type": "execute_result"
    }
   ],
   "source": [
    "document_chain=create_stuff_documents_chain(llm=llm,prompt=template1)\n",
    "\n",
    "document_chain"
   ]
  },
  {
   "cell_type": "code",
   "execution_count": 144,
   "metadata": {},
   "outputs": [
    {
     "data": {
      "text/plain": [
       "RunnableBinding(bound=RunnableAssign(mapper={\n",
       "  context: RunnableBinding(bound=RunnableAssign(mapper={\n",
       "             memory: RunnableLambda(itemgetter('memory'))\n",
       "                     | RunnableLambda(...)\n",
       "           })\n",
       "           | RunnableBinding(bound=RunnableBranch(branches=[(RunnableLambda(lambda x: not x.get('chat_history', False)), RunnableLambda(lambda x: x['input'])\n",
       "             | VectorStoreRetriever(tags=['FAISS', 'HuggingFaceEmbeddings'], vectorstore=<langchain_community.vectorstores.faiss.FAISS object at 0x00000218E5DC5220>, search_kwargs={'k': 1}))], default=ChatPromptTemplate(input_variables=['input', 'memory'], input_types={'memory': list[typing.Annotated[typing.Union[typing.Annotated[langchain_core.messages.ai.AIMessage, Tag(tag='ai')], typing.Annotated[langchain_core.messages.human.HumanMessage, Tag(tag='human')], typing.Annotated[langchain_core.messages.chat.ChatMessage, Tag(tag='chat')], typing.Annotated[langchain_core.messages.system.SystemMessage, Tag(tag='system')], typing.Annotated[langchain_core.messages.function.FunctionMessage, Tag(tag='function')], typing.Annotated[langchain_core.messages.tool.ToolMessage, Tag(tag='tool')], typing.Annotated[langchain_core.messages.ai.AIMessageChunk, Tag(tag='AIMessageChunk')], typing.Annotated[langchain_core.messages.human.HumanMessageChunk, Tag(tag='HumanMessageChunk')], typing.Annotated[langchain_core.messages.chat.ChatMessageChunk, Tag(tag='ChatMessageChunk')], typing.Annotated[langchain_core.messages.system.SystemMessageChunk, Tag(tag='SystemMessageChunk')], typing.Annotated[langchain_core.messages.function.FunctionMessageChunk, Tag(tag='FunctionMessageChunk')], typing.Annotated[langchain_core.messages.tool.ToolMessageChunk, Tag(tag='ToolMessageChunk')]], FieldInfo(annotation=NoneType, required=True, discriminator=Discriminator(discriminator=<function _get_type at 0x00000218EFF299E0>, custom_error_type=None, custom_error_message=None, custom_error_context=None))]]}, partial_variables={}, messages=[SystemMessagePromptTemplate(prompt=PromptTemplate(input_variables=[], input_types={}, partial_variables={}, template='You are an Question- Answering chatbot.For answering the question if it needs previous memory then using the memory understand and generate a relavent question that matches with the given input question'), additional_kwargs={}), MessagesPlaceholder(variable_name='memory'), HumanMessagePromptTemplate(prompt=PromptTemplate(input_variables=['input'], input_types={}, partial_variables={}, template='{input}'), additional_kwargs={})])\n",
       "             | ChatGoogleGenerativeAI(model='models/gemini-2.0-flash-thinking-exp-01-21', google_api_key=SecretStr('**********'), client=<google.ai.generativelanguage_v1beta.services.generative_service.client.GenerativeServiceClient object at 0x00000218E585D310>, default_metadata=())\n",
       "             | StrOutputParser()\n",
       "             | VectorStoreRetriever(tags=['FAISS', 'HuggingFaceEmbeddings'], vectorstore=<langchain_community.vectorstores.faiss.FAISS object at 0x00000218E5DC5220>, search_kwargs={'k': 1})), kwargs={}, config={'run_name': 'chat_retriever_chain'}, config_factories=[]), kwargs={}, config={'run_name': 'retrieve_documents'}, config_factories=[])\n",
       "})\n",
       "| RunnableAssign(mapper={\n",
       "    answer: RunnableBinding(bound=RunnableBinding(bound=RunnableAssign(mapper={\n",
       "              context: RunnableLambda(format_docs)\n",
       "            }), kwargs={}, config={'run_name': 'format_inputs'}, config_factories=[])\n",
       "            | ChatPromptTemplate(input_variables=['context', 'input', 'memory'], input_types={'memory': list[typing.Annotated[typing.Union[typing.Annotated[langchain_core.messages.ai.AIMessage, Tag(tag='ai')], typing.Annotated[langchain_core.messages.human.HumanMessage, Tag(tag='human')], typing.Annotated[langchain_core.messages.chat.ChatMessage, Tag(tag='chat')], typing.Annotated[langchain_core.messages.system.SystemMessage, Tag(tag='system')], typing.Annotated[langchain_core.messages.function.FunctionMessage, Tag(tag='function')], typing.Annotated[langchain_core.messages.tool.ToolMessage, Tag(tag='tool')], typing.Annotated[langchain_core.messages.ai.AIMessageChunk, Tag(tag='AIMessageChunk')], typing.Annotated[langchain_core.messages.human.HumanMessageChunk, Tag(tag='HumanMessageChunk')], typing.Annotated[langchain_core.messages.chat.ChatMessageChunk, Tag(tag='ChatMessageChunk')], typing.Annotated[langchain_core.messages.system.SystemMessageChunk, Tag(tag='SystemMessageChunk')], typing.Annotated[langchain_core.messages.function.FunctionMessageChunk, Tag(tag='FunctionMessageChunk')], typing.Annotated[langchain_core.messages.tool.ToolMessageChunk, Tag(tag='ToolMessageChunk')]], FieldInfo(annotation=NoneType, required=True, discriminator=Discriminator(discriminator=<function _get_type at 0x00000218EFF299E0>, custom_error_type=None, custom_error_message=None, custom_error_context=None))]]}, partial_variables={}, messages=[SystemMessagePromptTemplate(prompt=PromptTemplate(input_variables=['context'], input_types={}, partial_variables={}, template='Include {context} while genrating the answer keep the answer in simple words donot make much complex answer'), additional_kwargs={}), MessagesPlaceholder(variable_name='memory'), HumanMessagePromptTemplate(prompt=PromptTemplate(input_variables=['input'], input_types={}, partial_variables={}, template='{input}'), additional_kwargs={})])\n",
       "            | ChatGoogleGenerativeAI(model='models/gemini-2.0-flash-thinking-exp-01-21', google_api_key=SecretStr('**********'), client=<google.ai.generativelanguage_v1beta.services.generative_service.client.GenerativeServiceClient object at 0x00000218E585D310>, default_metadata=())\n",
       "            | StrOutputParser(), kwargs={}, config={'run_name': 'stuff_documents_chain'}, config_factories=[])\n",
       "  }), kwargs={}, config={'run_name': 'retrieval_chain'}, config_factories=[])"
      ]
     },
     "execution_count": 144,
     "metadata": {},
     "output_type": "execute_result"
    }
   ],
   "source": [
    "chain=create_retrieval_chain(retreival_chain,document_chain)\n",
    "\n",
    "chain"
   ]
  },
  {
   "cell_type": "code",
   "execution_count": 145,
   "metadata": {},
   "outputs": [
    {
     "data": {
      "text/plain": [
       "RunnableWithMessageHistory(bound=RunnableBinding(bound=RunnableBinding(bound=RunnableAssign(mapper={\n",
       "  memory: RunnableBinding(bound=RunnableLambda(_enter_history), kwargs={}, config={'run_name': 'load_history'}, config_factories=[])\n",
       "}), kwargs={}, config={'run_name': 'insert_history'}, config_factories=[])\n",
       "| RunnableBinding(bound=RunnableLambda(_call_runnable_sync), kwargs={}, config={'run_name': 'check_sync_or_async'}, config_factories=[]), kwargs={}, config={'run_name': 'RunnableWithMessageHistory'}, config_factories=[]), kwargs={}, config={}, config_factories=[], get_session_history=<function get_session_info at 0x00000218E6C70040>, input_messages_key='input', output_messages_key='answer', history_messages_key='memory', history_factory_config=[ConfigurableFieldSpec(id='session_id', annotation=<class 'str'>, name='Session ID', description='Unique identifier for a session.', default='', is_shared=True, dependencies=None)])"
      ]
     },
     "execution_count": 145,
     "metadata": {},
     "output_type": "execute_result"
    }
   ],
   "source": [
    "from langchain_core.runnables import RunnableWithMessageHistory\n",
    "\n",
    "run=RunnableWithMessageHistory(chain,get_session_history=get_session_info,input_messages_key=\"input\",history_messages_key=\"memory\",output_messages_key=\"answer\")\n",
    "\n",
    "run"
   ]
  },
  {
   "cell_type": "code",
   "execution_count": 147,
   "metadata": {},
   "outputs": [
    {
     "data": {
      "text/plain": [
       "{'input': 'when did Uppalapati Venkata Suryanarayana Prabhas Raju born?',\n",
       " 'memory': [],\n",
       " 'context': [Document(id='c613196f-6018-4f7f-bb8a-9138782b9e17', metadata={'source': 'https://en.wikipedia.org/wiki/Prabhas', 'title': 'Prabhas - Wikipedia', 'language': 'en'}, page_content='Early life and education\\nPrabhas was born on 23 October 1979 in a Telugu family to film producer Uppalapati Surya Narayana Raju and Siva Kumari in Madras (now Chennai). The youngest of three children, he has an elder brother, Prabodh, and elder sister, Pragathi.[3][21][22] He is the nephew of Telugu film actor Krishnam Raju.[3] His family hails from Mogalthur, near Bhimavaram of West Godavari district, Andhra Pradesh.[23]\\nPrabhas did his schooling at Don Bosco Matriculation Higher Secondary School, Chennai, and at DNR High School, Bhimavaram.[24] He then completed his intermediate education from Nalanda College, Hyderabad.[25][24] He later went on to pursue Bachelor of Technology (B.Tech) from Sri Chaitanya College, Hyderabad.[26] He is also an alumnus of Satyanand Film Institute, Visakhapatnam.[27]')],\n",
       " 'answer': 'Uppalapati Venkata Suryanarayana Prabhas Raju, who is famously known as Prabhas, was born on **23 October 1979**.'}"
      ]
     },
     "execution_count": 147,
     "metadata": {},
     "output_type": "execute_result"
    }
   ],
   "source": [
    "result=run.invoke(\n",
    "    {\n",
    "        \"input\":\"when did Uppalapati Venkata Suryanarayana Prabhas Raju born?\"\n",
    "    },\n",
    "    config={\"configurable\":{\"session_id\":\"2\"}}\n",
    ")\n",
    "\n",
    "result"
   ]
  },
  {
   "cell_type": "code",
   "execution_count": null,
   "metadata": {},
   "outputs": [
    {
     "data": {
      "text/plain": [
       "InMemoryChatMessageHistory(messages=[HumanMessage(content='What is a  large language model (LLM)?', additional_kwargs={}, response_metadata={}), AIMessage(content=\"Imagine a computer program that's been trained on a massive amount of text and code. That's basically what a Large Language Model (LLM) is.\\n\\nThink of it like a really smart student who has read almost everything on the internet.  Because it has read so much, it can:\\n\\n* **Understand and generate text:** It can understand what you write and write back in a way that sounds like a human.\\n* **Answer questions:**  You can ask it questions, and it will try to give you helpful answers based on what it has learned.\\n* **Translate languages:** It can translate text from one language to another.\\n* **Write different kinds of creative content:** It can write stories, poems, emails, and even code!\\n\\n**In simple words:** An LLM is a powerful computer program that's really good at understanding and working with language because it has been trained on a huge amount of text data.\", additional_kwargs={}, response_metadata={})])"
      ]
     },
     "execution_count": 115,
     "metadata": {},
     "output_type": "execute_result"
    }
   ],
   "source": [
    "get_session_info(\"2\")"
   ]
  },
  {
   "cell_type": "code",
   "execution_count": null,
   "metadata": {},
   "outputs": [
    {
     "data": {
      "text/plain": [
       "{'input': 'What is the previous question i asked?',\n",
       " 'memory': [HumanMessage(content='What is a  large language model (LLM)?', additional_kwargs={}, response_metadata={}),\n",
       "  AIMessage(content=\"Imagine a computer program that's been trained on a massive amount of text and code. That's basically what a Large Language Model (LLM) is.\\n\\nThink of it like a really smart student who has read almost everything on the internet.  Because it has read so much, it can:\\n\\n* **Understand and generate text:** It can understand what you write and write back in a way that sounds like a human.\\n* **Answer questions:**  You can ask it questions, and it will try to give you helpful answers based on what it has learned.\\n* **Translate languages:** It can translate text from one language to another.\\n* **Write different kinds of creative content:** It can write stories, poems, emails, and even code!\\n\\n**In simple words:** An LLM is a powerful computer program that's really good at understanding and working with language because it has been trained on a huge amount of text data.\", additional_kwargs={}, response_metadata={})],\n",
       " 'context': [Document(id='7a09df22-547f-4b39-8cfd-4e5085b9545f', metadata={'source': 'https://en.wikipedia.org/wiki/Prabhas', 'title': 'Prabhas - Wikipedia', 'language': 'en'}, page_content='Prabhas on the sets of Saaho\\nIn 2019, Prabhas starred in Sujeeth\\'s action thriller Saaho.[62] Saaho opened to mixed reviews and grossed ₹130 crore worldwide on its opening day, making it Prabhas\\'s second ₹100 crore opening day grosser. The film eventually grossed over ₹419 crore (US$49\\xa0million) at the box-office.[63] The Telugu version of the film underperformed, while the Hindi version was a hit.[64][65] In 2022, Prabhas appeared in the period romance drama Radhe Shyam which received poor reviews from critics & proved to be a box office bomb.[66][67][68] In 2023, Prabhas portrayed Lord Ram in the mythological action film Adipurush, an adaptation of Hindu epic the Ramayana.[69] It received highly negative response from critics as well as the audience, who criticised the film\\'s screenplay and visuals, and turned out to be another box-office bomb for the actor.[70]\\nPrabhas went on to star in Prashanth Neel\\'s action drama Salaar: Part 1 – Ceasefire (2023), the same year.[71] The film opened to positive reviews and grossed ₹176 crore worldwide on its opening day.[72] It eventually grossed over ₹705 crore (US$82\\xa0million) worldwide and proved to be a comeback film for him.[73] In 2024, he starred in Nag Ashwin\\'s epic science fiction film Kalki 2898 AD.[74][75] Made on a ₹600 crore (US$70\\xa0million) production budget, it is the most expensive Indian film.[76] Kalki 2898 AD grossed over ₹191 crore worldwide on its opening day, which was the third highest first day gross for an Indian film, and making it the fifth and third consecutive ₹100 crore opener worldwide for Prabhas, a feat unheard of in Indian cinema.[77] Rahul Malhotra of Collider quotes that Kalki 2898 AD’s resounding opening cements \"Prabhas as one of the biggest Indian movie stars of his generation\".[78] The film grossed over ₹1,100 crore (US$130\\xa0million) at the box-office, making it the second ₹1,000 crore (US$120 million) film for Prabhas.[79][80]\\n\\nUpcoming projects\\nPrabhas has several upcoming films in various stages of production.[81] In April 2025, he will feature in Kannappa, a mythological drama,[82] in a cameo role and The Raja Saab, a romantic horror-comedy, where he plays the lead role in an ancestral property dispute tale.[83] In 2026, Prabhas will appear in Salaar: Part 2 – Shouryaanga Parvam, the sequel to Salaar;[84] and Spirit, an anti-hero grindhouse drama directed by Sandeep Reddy Vanga.[85] In 2027, he is set to reprise his role as the main protagonist in the epic dystopian sci-fi Kalki 2898 AD - Part 2, re-portraying dual roles of Bhairava and Karna; and Fauji, a patriotic historical action-drama film directed by Hanu Raghavapudi.[86]\\nPrabhas has also entered into a three-film contract with Hombale Films, the production company responsible for notable successes such as KGF, Kantara, and Salaar. The partnership will commence with Salaar: Part 2 – Shouryaanga Parvam in 2026, with the subsequent untitled films tentatively scheduled for release in 2027 and 2028.[87]')],\n",
       " 'answer': 'The previous question you asked was:\\n\\n**What is a large language model (LLM)?**'}"
      ]
     },
     "execution_count": 116,
     "metadata": {},
     "output_type": "execute_result"
    }
   ],
   "source": [
    "o=run.invoke(\n",
    "    {\"input\":\"What is the previous question i asked?\"},\n",
    "    config={\"configurable\":{\"session_id\":\"2\"}}\n",
    ")\n",
    "\n",
    "o"
   ]
  },
  {
   "cell_type": "code",
   "execution_count": null,
   "metadata": {},
   "outputs": [
    {
     "data": {
      "text/plain": [
       "'The previous question you asked was:\\n\\n**What is a large language model (LLM)?**'"
      ]
     },
     "execution_count": 117,
     "metadata": {},
     "output_type": "execute_result"
    }
   ],
   "source": [
    "o['answer']"
   ]
  },
  {
   "cell_type": "code",
   "execution_count": null,
   "metadata": {},
   "outputs": [],
   "source": []
  }
 ],
 "metadata": {
  "kernelspec": {
   "display_name": "venv",
   "language": "python",
   "name": "python3"
  },
  "language_info": {
   "codemirror_mode": {
    "name": "ipython",
    "version": 3
   },
   "file_extension": ".py",
   "mimetype": "text/x-python",
   "name": "python",
   "nbconvert_exporter": "python",
   "pygments_lexer": "ipython3",
   "version": "3.12.0"
  }
 },
 "nbformat": 4,
 "nbformat_minor": 2
}
